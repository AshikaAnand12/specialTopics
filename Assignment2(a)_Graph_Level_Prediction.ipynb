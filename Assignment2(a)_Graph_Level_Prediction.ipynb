{
  "nbformat": 4,
  "nbformat_minor": 0,
  "metadata": {
    "colab": {
      "provenance": [],
      "include_colab_link": true
    },
    "kernelspec": {
      "name": "python3",
      "display_name": "Python 3"
    },
    "language_info": {
      "name": "python"
    }
  },
  "cells": [
    {
      "cell_type": "markdown",
      "metadata": {
        "id": "view-in-github",
        "colab_type": "text"
      },
      "source": [
        "<a href=\"https://colab.research.google.com/github/AshikaAnand12/specialTopics/blob/A2-Level-prediction/Assignment2(a)_Graph_Level_Prediction.ipynb\" target=\"_parent\"><img src=\"https://colab.research.google.com/assets/colab-badge.svg\" alt=\"Open In Colab\"/></a>"
      ]
    },
    {
      "cell_type": "markdown",
      "source": [
        "# **Graph Level Prediction using GCN**"
      ],
      "metadata": {
        "id": "nn6dzmr7L6z4"
      }
    },
    {
      "cell_type": "markdown",
      "source": [
        "### **Installing Pytorch Geometric and RDKit**"
      ],
      "metadata": {
        "id": "tQUeBpfpOCC5"
      }
    },
    {
      "cell_type": "markdown",
      "source": [
        "- Pytorch Geometric => Build Graph Neural Network\n",
        "- RDKit => Handle Molecule Data"
      ],
      "metadata": {
        "id": "6jw9dV-7OIhd"
      }
    },
    {
      "cell_type": "code",
      "source": [
        "# Enforce pytorch version 1.6.0\n",
        "import torch\n",
        "if torch.__version__ != '1.6.0':\n",
        "  !pip uninstall torch -y\n",
        "  !pip uninstall torchvision -y\n",
        "  !pip install torch==1.6.0\n",
        "  !pip install torchvision==0.7.0\n",
        "\n",
        "# Check pytorch version and make sure you use a GPU Kernel\n",
        "!python -c \"import torch; print(torch.__version__)\"\n",
        "!python -c \"import torch; print(torch.version.cuda)\"\n",
        "!python --version\n",
        "!nvidia-smi"
      ],
      "metadata": {
        "colab": {
          "base_uri": "https://localhost:8080/",
          "height": 752
        },
        "id": "7y-fLAKjOBjY",
        "outputId": "ef5a54b4-f9ea-4e5c-ecc7-8b25f7668bf4"
      },
      "execution_count": null,
      "outputs": [
        {
          "output_type": "stream",
          "name": "stdout",
          "text": [
            "Found existing installation: torch 1.12.1+cu113\n",
            "Uninstalling torch-1.12.1+cu113:\n",
            "  Successfully uninstalled torch-1.12.1+cu113\n",
            "Found existing installation: torchvision 0.13.1+cu113\n",
            "Uninstalling torchvision-0.13.1+cu113:\n",
            "  Successfully uninstalled torchvision-0.13.1+cu113\n",
            "Looking in indexes: https://pypi.org/simple, https://us-python.pkg.dev/colab-wheels/public/simple/\n",
            "Collecting torch==1.6.0\n",
            "  Downloading torch-1.6.0-cp37-cp37m-manylinux1_x86_64.whl (748.8 MB)\n",
            "\u001b[K     |████████████████████████████████| 748.8 MB 20 kB/s \n",
            "\u001b[?25hRequirement already satisfied: numpy in /usr/local/lib/python3.7/dist-packages (from torch==1.6.0) (1.21.6)\n",
            "Requirement already satisfied: future in /usr/local/lib/python3.7/dist-packages (from torch==1.6.0) (0.16.0)\n",
            "Installing collected packages: torch\n",
            "\u001b[31mERROR: pip's dependency resolver does not currently take into account all the packages that are installed. This behaviour is the source of the following dependency conflicts.\n",
            "fastai 2.7.9 requires torchvision>=0.8.2, which is not installed.\n",
            "torchtext 0.13.1 requires torch==1.12.1, but you have torch 1.6.0 which is incompatible.\n",
            "torchaudio 0.12.1+cu113 requires torch==1.12.1, but you have torch 1.6.0 which is incompatible.\n",
            "fastai 2.7.9 requires torch<1.14,>=1.7, but you have torch 1.6.0 which is incompatible.\u001b[0m\n",
            "Successfully installed torch-1.6.0\n"
          ]
        },
        {
          "output_type": "display_data",
          "data": {
            "application/vnd.colab-display-data+json": {
              "pip_warning": {
                "packages": [
                  "torch"
                ]
              }
            }
          },
          "metadata": {}
        },
        {
          "output_type": "stream",
          "name": "stdout",
          "text": [
            "Looking in indexes: https://pypi.org/simple, https://us-python.pkg.dev/colab-wheels/public/simple/\n",
            "Collecting torchvision==0.7.0\n",
            "  Downloading torchvision-0.7.0-cp37-cp37m-manylinux1_x86_64.whl (5.9 MB)\n",
            "\u001b[K     |████████████████████████████████| 5.9 MB 26.7 MB/s \n",
            "\u001b[?25hRequirement already satisfied: pillow>=4.1.1 in /usr/local/lib/python3.7/dist-packages (from torchvision==0.7.0) (7.1.2)\n",
            "Requirement already satisfied: numpy in /usr/local/lib/python3.7/dist-packages (from torchvision==0.7.0) (1.21.6)\n",
            "Requirement already satisfied: torch==1.6.0 in /usr/local/lib/python3.7/dist-packages (from torchvision==0.7.0) (1.6.0)\n",
            "Requirement already satisfied: future in /usr/local/lib/python3.7/dist-packages (from torch==1.6.0->torchvision==0.7.0) (0.16.0)\n",
            "Installing collected packages: torchvision\n",
            "\u001b[31mERROR: pip's dependency resolver does not currently take into account all the packages that are installed. This behaviour is the source of the following dependency conflicts.\n",
            "fastai 2.7.9 requires torch<1.14,>=1.7, but you have torch 1.6.0 which is incompatible.\n",
            "fastai 2.7.9 requires torchvision>=0.8.2, but you have torchvision 0.7.0 which is incompatible.\u001b[0m\n",
            "Successfully installed torchvision-0.7.0\n",
            "1.6.0\n",
            "10.2\n",
            "Python 3.7.15\n",
            "NVIDIA-SMI has failed because it couldn't communicate with the NVIDIA driver. Make sure that the latest NVIDIA driver is installed and running.\n",
            "\n"
          ]
        }
      ]
    },
    {
      "cell_type": "code",
      "execution_count": null,
      "metadata": {
        "colab": {
          "base_uri": "https://localhost:8080/"
        },
        "id": "WiIiBmJWm4EB",
        "outputId": "85e5f360-64c7-4c3a-afe4-ae771ab82e0f"
      },
      "outputs": [
        {
          "output_type": "stream",
          "name": "stderr",
          "text": [
            "add /root/miniconda/lib/python3.7/site-packages to PYTHONPATH\n",
            "INFO:__main__:add /root/miniconda/lib/python3.7/site-packages to PYTHONPATH\n",
            "python version: 3.7.15\n",
            "INFO:__main__:python version: 3.7.15\n",
            "fetching installer from https://repo.continuum.io/miniconda/Miniconda3-latest-Linux-x86_64.sh\n",
            "INFO:__main__:fetching installer from https://repo.continuum.io/miniconda/Miniconda3-latest-Linux-x86_64.sh\n",
            "done\n",
            "INFO:__main__:done\n",
            "installing miniconda to /root/miniconda\n",
            "INFO:__main__:installing miniconda to /root/miniconda\n",
            "done\n",
            "INFO:__main__:done\n",
            "installing rdkit\n",
            "INFO:__main__:installing rdkit\n",
            "done\n",
            "INFO:__main__:done\n",
            "rdkit-2020.09.1 installation finished!\n",
            "INFO:__main__:rdkit-2020.09.1 installation finished!\n"
          ]
        }
      ],
      "source": [
        "#@title\n",
        "# Install rdkit\n",
        "import sys\n",
        "import os\n",
        "import requests\n",
        "import subprocess\n",
        "import shutil\n",
        "from logging import getLogger, StreamHandler, INFO\n",
        " \n",
        " \n",
        "logger = getLogger(__name__)\n",
        "logger.addHandler(StreamHandler())\n",
        "logger.setLevel(INFO)\n",
        " \n",
        " \n",
        "def install(\n",
        "        chunk_size=4096,\n",
        "        file_name=\"Miniconda3-latest-Linux-x86_64.sh\",\n",
        "        url_base=\"https://repo.continuum.io/miniconda/\",\n",
        "        conda_path=os.path.expanduser(os.path.join(\"~\", \"miniconda\")),\n",
        "        rdkit_version=None,\n",
        "        add_python_path=True,\n",
        "        force=False):\n",
        "    \"\"\"install rdkit from miniconda\n",
        "    ```\n",
        "    import rdkit_installer\n",
        "    rdkit_installer.install()\n",
        "    ```\n",
        "    \"\"\"\n",
        " \n",
        "    python_path = os.path.join(\n",
        "        conda_path,\n",
        "        \"lib\",\n",
        "        \"python{0}.{1}\".format(*sys.version_info),\n",
        "        \"site-packages\",\n",
        "    )\n",
        " \n",
        "    if add_python_path and python_path not in sys.path:\n",
        "        logger.info(\"add {} to PYTHONPATH\".format(python_path))\n",
        "        sys.path.append(python_path)\n",
        " \n",
        "    if os.path.isdir(os.path.join(python_path, \"rdkit\")):\n",
        "        logger.info(\"rdkit is already installed\")\n",
        "        if not force:\n",
        "            return\n",
        " \n",
        "        logger.info(\"force re-install\")\n",
        " \n",
        "    url = url_base + file_name\n",
        "    python_version = \"{0}.{1}.{2}\".format(*sys.version_info)\n",
        " \n",
        "    logger.info(\"python version: {}\".format(python_version))\n",
        " \n",
        "    if os.path.isdir(conda_path):\n",
        "        logger.warning(\"remove current miniconda\")\n",
        "        shutil.rmtree(conda_path)\n",
        "    elif os.path.isfile(conda_path):\n",
        "        logger.warning(\"remove {}\".format(conda_path))\n",
        "        os.remove(conda_path)\n",
        " \n",
        "    logger.info('fetching installer from {}'.format(url))\n",
        "    res = requests.get(url, stream=True)\n",
        "    res.raise_for_status()\n",
        "    with open(file_name, 'wb') as f:\n",
        "        for chunk in res.iter_content(chunk_size):\n",
        "            f.write(chunk)\n",
        "    logger.info('done')\n",
        " \n",
        "    logger.info('installing miniconda to {}'.format(conda_path))\n",
        "    subprocess.check_call([\"bash\", file_name, \"-b\", \"-p\", conda_path])\n",
        "    logger.info('done')\n",
        " \n",
        "    logger.info(\"installing rdkit\")\n",
        "    subprocess.check_call([\n",
        "        os.path.join(conda_path, \"bin\", \"conda\"),\n",
        "        \"install\",\n",
        "        \"--yes\",\n",
        "        \"-c\", \"rdkit\",\n",
        "        \"python==3.7.3\",\n",
        "        \"rdkit\" if rdkit_version is None else \"rdkit=={}\".format(rdkit_version)])\n",
        "    logger.info(\"done\")\n",
        " \n",
        "    import rdkit\n",
        "    logger.info(\"rdkit-{} installation finished!\".format(rdkit.__version__))\n",
        " \n",
        " \n",
        "if __name__ == \"__main__\":\n",
        "    install()"
      ]
    },
    {
      "cell_type": "code",
      "source": [
        "import torch\n",
        "pytorch_version = f\"torch-{torch.__version__}.html\"\n",
        "!pip install --no-index torch-scatter -f https://pytorch-geometric.com/whl/$pytorch_version\n",
        "!pip install --no-index torch-sparse -f https://pytorch-geometric.com/whl/$pytorch_version\n",
        "!pip install --no-index torch-cluster -f https://pytorch-geometric.com/whl/$pytorch_version\n",
        "!pip install --no-index torch-spline-conv -f https://pytorch-geometric.com/whl/$pytorch_version\n",
        "!pip install torch-geometric"
      ],
      "metadata": {
        "colab": {
          "base_uri": "https://localhost:8080/"
        },
        "id": "I29FKHz5Pr7w",
        "outputId": "64ebef88-ead7-4535-eac7-bce2f2c047a1"
      },
      "execution_count": null,
      "outputs": [
        {
          "output_type": "stream",
          "name": "stdout",
          "text": [
            "Looking in links: https://pytorch-geometric.com/whl/torch-1.12.1+cu113.html\n",
            "Collecting torch-scatter\n",
            "  Downloading https://data.pyg.org/whl/torch-1.12.0%2Bcu113/torch_scatter-2.0.9-cp37-cp37m-linux_x86_64.whl (7.9 MB)\n",
            "\u001b[K     |████████████████████████████████| 7.9 MB 19.8 MB/s \n",
            "\u001b[?25hInstalling collected packages: torch-scatter\n",
            "Successfully installed torch-scatter-2.0.9\n",
            "Looking in links: https://pytorch-geometric.com/whl/torch-1.12.1+cu113.html\n",
            "Collecting torch-sparse\n",
            "  Downloading https://data.pyg.org/whl/torch-1.12.0%2Bcu113/torch_sparse-0.6.15-cp37-cp37m-linux_x86_64.whl (3.5 MB)\n",
            "\u001b[K     |████████████████████████████████| 3.5 MB 18.4 MB/s \n",
            "\u001b[?25hRequirement already satisfied: scipy in /usr/local/lib/python3.7/dist-packages (from torch-sparse) (1.7.3)\n",
            "Requirement already satisfied: numpy<1.23.0,>=1.16.5 in /usr/local/lib/python3.7/dist-packages (from scipy->torch-sparse) (1.21.6)\n",
            "Installing collected packages: torch-sparse\n",
            "Successfully installed torch-sparse-0.6.15\n",
            "Looking in links: https://pytorch-geometric.com/whl/torch-1.12.1+cu113.html\n",
            "Collecting torch-cluster\n",
            "  Downloading https://data.pyg.org/whl/torch-1.12.0%2Bcu113/torch_cluster-1.6.0-cp37-cp37m-linux_x86_64.whl (2.4 MB)\n",
            "\u001b[K     |████████████████████████████████| 2.4 MB 29.3 MB/s \n",
            "\u001b[?25hInstalling collected packages: torch-cluster\n",
            "Successfully installed torch-cluster-1.6.0\n",
            "Looking in links: https://pytorch-geometric.com/whl/torch-1.12.1+cu113.html\n",
            "Collecting torch-spline-conv\n",
            "  Downloading https://data.pyg.org/whl/torch-1.12.0%2Bcu113/torch_spline_conv-1.2.1-cp37-cp37m-linux_x86_64.whl (709 kB)\n",
            "\u001b[K     |████████████████████████████████| 709 kB 28.8 MB/s \n",
            "\u001b[?25hInstalling collected packages: torch-spline-conv\n",
            "Successfully installed torch-spline-conv-1.2.1\n",
            "Looking in indexes: https://pypi.org/simple, https://us-python.pkg.dev/colab-wheels/public/simple/\n",
            "Collecting torch-geometric\n",
            "  Downloading torch_geometric-2.1.0.post1.tar.gz (467 kB)\n",
            "\u001b[K     |████████████████████████████████| 467 kB 34.9 MB/s \n",
            "\u001b[?25hRequirement already satisfied: tqdm in /usr/local/lib/python3.7/dist-packages (from torch-geometric) (4.64.1)\n",
            "Requirement already satisfied: numpy in /usr/local/lib/python3.7/dist-packages (from torch-geometric) (1.21.6)\n",
            "Requirement already satisfied: scipy in /usr/local/lib/python3.7/dist-packages (from torch-geometric) (1.7.3)\n",
            "Requirement already satisfied: jinja2 in /usr/local/lib/python3.7/dist-packages (from torch-geometric) (2.11.3)\n",
            "Requirement already satisfied: requests in /usr/local/lib/python3.7/dist-packages (from torch-geometric) (2.23.0)\n",
            "Requirement already satisfied: pyparsing in /usr/local/lib/python3.7/dist-packages (from torch-geometric) (3.0.9)\n",
            "Requirement already satisfied: scikit-learn in /usr/local/lib/python3.7/dist-packages (from torch-geometric) (1.0.2)\n",
            "Requirement already satisfied: MarkupSafe>=0.23 in /usr/local/lib/python3.7/dist-packages (from jinja2->torch-geometric) (2.0.1)\n",
            "Requirement already satisfied: certifi>=2017.4.17 in /usr/local/lib/python3.7/dist-packages (from requests->torch-geometric) (2022.9.24)\n",
            "Requirement already satisfied: chardet<4,>=3.0.2 in /usr/local/lib/python3.7/dist-packages (from requests->torch-geometric) (3.0.4)\n",
            "Requirement already satisfied: urllib3!=1.25.0,!=1.25.1,<1.26,>=1.21.1 in /usr/local/lib/python3.7/dist-packages (from requests->torch-geometric) (1.24.3)\n",
            "Requirement already satisfied: idna<3,>=2.5 in /usr/local/lib/python3.7/dist-packages (from requests->torch-geometric) (2.10)\n",
            "Requirement already satisfied: joblib>=0.11 in /usr/local/lib/python3.7/dist-packages (from scikit-learn->torch-geometric) (1.2.0)\n",
            "Requirement already satisfied: threadpoolctl>=2.0.0 in /usr/local/lib/python3.7/dist-packages (from scikit-learn->torch-geometric) (3.1.0)\n",
            "Building wheels for collected packages: torch-geometric\n",
            "  Building wheel for torch-geometric (setup.py) ... \u001b[?25l\u001b[?25hdone\n",
            "  Created wheel for torch-geometric: filename=torch_geometric-2.1.0.post1-py3-none-any.whl size=689859 sha256=c71e276ce7a4dfe702b557234d070114a8f4cf5c820dde281c7a43e588287a6a\n",
            "  Stored in directory: /root/.cache/pip/wheels/d1/cb/43/f7f2e472de4d7cff31bceddadc36d634e1e545fbc17961c282\n",
            "Successfully built torch-geometric\n",
            "Installing collected packages: torch-geometric\n",
            "Successfully installed torch-geometric-2.1.0.post1\n"
          ]
        }
      ]
    },
    {
      "cell_type": "markdown",
      "source": [
        "## **Dataset**"
      ],
      "metadata": {
        "id": "y1W_frwMP-0W"
      }
    },
    {
      "cell_type": "code",
      "source": [
        "import rdkit\n",
        "from torch_geometric.datasets import MoleculeNet\n",
        " \n",
        "# Load the ESOL dataset\n",
        "data = MoleculeNet(root=\".\", name=\"ESOL\")\n",
        "data"
      ],
      "metadata": {
        "colab": {
          "base_uri": "https://localhost:8080/"
        },
        "id": "sgWTONfnPsAW",
        "outputId": "c3b8ad84-49c1-4d3a-e500-6e882c2d21f4"
      },
      "execution_count": null,
      "outputs": [
        {
          "output_type": "stream",
          "name": "stderr",
          "text": [
            "Downloading https://deepchemdata.s3-us-west-1.amazonaws.com/datasets/delaney-processed.csv\n",
            "Processing...\n",
            "Done!\n"
          ]
        },
        {
          "output_type": "execute_result",
          "data": {
            "text/plain": [
              "ESOL(1128)"
            ]
          },
          "metadata": {},
          "execution_count": 4
        }
      ]
    },
    {
      "cell_type": "code",
      "source": [
        "# Investigating the dataset\n",
        "print(\"Dataset type: \", type(data))\n",
        "print(\"Dataset features: \", data.num_features)\n",
        "print(\"Dataset target: \", data.num_classes)\n",
        "print(\"Dataset length: \", data.len)\n",
        "print(\"Dataset sample: \", data[0])\n",
        "print(\"Sample  nodes: \", data[0].num_nodes)\n",
        "print(\"Sample  edges: \", data[0].num_edges)\n",
        "\n",
        "# edge_index = graph connections\n",
        "# smiles = molecule with its atoms\n",
        "# x = node features (32 nodes have each 9 features)\n",
        "# y = labels (dimension)"
      ],
      "metadata": {
        "colab": {
          "base_uri": "https://localhost:8080/"
        },
        "id": "efPhxU5FPsEQ",
        "outputId": "63453aea-aa1b-4012-f7e9-7e409b19a43c"
      },
      "execution_count": null,
      "outputs": [
        {
          "output_type": "stream",
          "name": "stdout",
          "text": [
            "Dataset type:  <class 'torch_geometric.datasets.molecule_net.MoleculeNet'>\n",
            "Dataset features:  9\n",
            "Dataset target:  734\n",
            "Dataset length:  <bound method InMemoryDataset.len of ESOL(1128)>\n",
            "Dataset sample:  Data(x=[32, 9], edge_index=[2, 68], edge_attr=[68, 3], smiles='OCC3OC(OCC2OC(OC(C#N)c1ccccc1)C(O)C(O)C2O)C(O)C(O)C3O ', y=[1, 1])\n",
            "Sample  nodes:  32\n",
            "Sample  edges:  68\n"
          ]
        }
      ]
    },
    {
      "cell_type": "code",
      "source": [
        "# Investigating the features\n",
        "# Shape: [num_nodes, num_node_features]\n",
        "data[0].x"
      ],
      "metadata": {
        "colab": {
          "base_uri": "https://localhost:8080/"
        },
        "id": "eSZMuJutPsIa",
        "outputId": "3d420de5-76ac-4663-bfde-7b3ed88f1b5d"
      },
      "execution_count": null,
      "outputs": [
        {
          "output_type": "execute_result",
          "data": {
            "text/plain": [
              "tensor([[8, 0, 2, 5, 1, 0, 4, 0, 0],\n",
              "        [6, 0, 4, 5, 2, 0, 4, 0, 0],\n",
              "        [6, 0, 4, 5, 1, 0, 4, 0, 1],\n",
              "        [8, 0, 2, 5, 0, 0, 4, 0, 1],\n",
              "        [6, 0, 4, 5, 1, 0, 4, 0, 1],\n",
              "        [8, 0, 2, 5, 0, 0, 4, 0, 0],\n",
              "        [6, 0, 4, 5, 2, 0, 4, 0, 0],\n",
              "        [6, 0, 4, 5, 1, 0, 4, 0, 1],\n",
              "        [8, 0, 2, 5, 0, 0, 4, 0, 1],\n",
              "        [6, 0, 4, 5, 1, 0, 4, 0, 1],\n",
              "        [8, 0, 2, 5, 0, 0, 4, 0, 0],\n",
              "        [6, 0, 4, 5, 1, 0, 4, 0, 0],\n",
              "        [6, 0, 2, 5, 0, 0, 2, 0, 0],\n",
              "        [7, 0, 1, 5, 0, 0, 2, 0, 0],\n",
              "        [6, 0, 3, 5, 0, 0, 3, 1, 1],\n",
              "        [6, 0, 3, 5, 1, 0, 3, 1, 1],\n",
              "        [6, 0, 3, 5, 1, 0, 3, 1, 1],\n",
              "        [6, 0, 3, 5, 1, 0, 3, 1, 1],\n",
              "        [6, 0, 3, 5, 1, 0, 3, 1, 1],\n",
              "        [6, 0, 3, 5, 1, 0, 3, 1, 1],\n",
              "        [6, 0, 4, 5, 1, 0, 4, 0, 1],\n",
              "        [8, 0, 2, 5, 1, 0, 4, 0, 0],\n",
              "        [6, 0, 4, 5, 1, 0, 4, 0, 1],\n",
              "        [8, 0, 2, 5, 1, 0, 4, 0, 0],\n",
              "        [6, 0, 4, 5, 1, 0, 4, 0, 1],\n",
              "        [8, 0, 2, 5, 1, 0, 4, 0, 0],\n",
              "        [6, 0, 4, 5, 1, 0, 4, 0, 1],\n",
              "        [8, 0, 2, 5, 1, 0, 4, 0, 0],\n",
              "        [6, 0, 4, 5, 1, 0, 4, 0, 1],\n",
              "        [8, 0, 2, 5, 1, 0, 4, 0, 0],\n",
              "        [6, 0, 4, 5, 1, 0, 4, 0, 1],\n",
              "        [8, 0, 2, 5, 1, 0, 4, 0, 0]])"
            ]
          },
          "metadata": {},
          "execution_count": 6
        }
      ]
    },
    {
      "cell_type": "code",
      "source": [
        "# Investigating the edges in sparse COO format\n",
        "# Shape [2, num_edges]\n",
        "data[0].edge_index.t()"
      ],
      "metadata": {
        "colab": {
          "base_uri": "https://localhost:8080/"
        },
        "id": "yLBnT3-qQjkv",
        "outputId": "969a798f-668b-4a4b-9a46-bb6d05851d2c"
      },
      "execution_count": null,
      "outputs": [
        {
          "output_type": "execute_result",
          "data": {
            "text/plain": [
              "tensor([[ 0,  1],\n",
              "        [ 1,  0],\n",
              "        [ 1,  2],\n",
              "        [ 2,  1],\n",
              "        [ 2,  3],\n",
              "        [ 2, 30],\n",
              "        [ 3,  2],\n",
              "        [ 3,  4],\n",
              "        [ 4,  3],\n",
              "        [ 4,  5],\n",
              "        [ 4, 26],\n",
              "        [ 5,  4],\n",
              "        [ 5,  6],\n",
              "        [ 6,  5],\n",
              "        [ 6,  7],\n",
              "        [ 7,  6],\n",
              "        [ 7,  8],\n",
              "        [ 7, 24],\n",
              "        [ 8,  7],\n",
              "        [ 8,  9],\n",
              "        [ 9,  8],\n",
              "        [ 9, 10],\n",
              "        [ 9, 20],\n",
              "        [10,  9],\n",
              "        [10, 11],\n",
              "        [11, 10],\n",
              "        [11, 12],\n",
              "        [11, 14],\n",
              "        [12, 11],\n",
              "        [12, 13],\n",
              "        [13, 12],\n",
              "        [14, 11],\n",
              "        [14, 15],\n",
              "        [14, 19],\n",
              "        [15, 14],\n",
              "        [15, 16],\n",
              "        [16, 15],\n",
              "        [16, 17],\n",
              "        [17, 16],\n",
              "        [17, 18],\n",
              "        [18, 17],\n",
              "        [18, 19],\n",
              "        [19, 14],\n",
              "        [19, 18],\n",
              "        [20,  9],\n",
              "        [20, 21],\n",
              "        [20, 22],\n",
              "        [21, 20],\n",
              "        [22, 20],\n",
              "        [22, 23],\n",
              "        [22, 24],\n",
              "        [23, 22],\n",
              "        [24,  7],\n",
              "        [24, 22],\n",
              "        [24, 25],\n",
              "        [25, 24],\n",
              "        [26,  4],\n",
              "        [26, 27],\n",
              "        [26, 28],\n",
              "        [27, 26],\n",
              "        [28, 26],\n",
              "        [28, 29],\n",
              "        [28, 30],\n",
              "        [29, 28],\n",
              "        [30,  2],\n",
              "        [30, 28],\n",
              "        [30, 31],\n",
              "        [31, 30]])"
            ]
          },
          "metadata": {},
          "execution_count": 7
        }
      ]
    },
    {
      "cell_type": "code",
      "source": [
        "data[0].y"
      ],
      "metadata": {
        "colab": {
          "base_uri": "https://localhost:8080/"
        },
        "id": "pkcFP417QnVQ",
        "outputId": "9789e7de-3b8a-42f0-8510-c3d56e6748af"
      },
      "execution_count": null,
      "outputs": [
        {
          "output_type": "execute_result",
          "data": {
            "text/plain": [
              "tensor([[-0.7700]])"
            ]
          },
          "metadata": {},
          "execution_count": 8
        }
      ]
    },
    {
      "cell_type": "markdown",
      "source": [
        "In the following we will perform predictions based on the graph level. This means we have one y-label for the whole graph, as shown on the left image below. The right image would be node-level-predictions."
      ],
      "metadata": {
        "id": "3RrADEAhQuid"
      }
    },
    {
      "cell_type": "markdown",
      "source": [
        "## **Converting SMILES to RDKit molecules - Visualizing molecules**"
      ],
      "metadata": {
        "id": "SwmPIJy0Q0Mr"
      }
    },
    {
      "cell_type": "code",
      "source": [
        "data[0][\"smiles\"]"
      ],
      "metadata": {
        "colab": {
          "base_uri": "https://localhost:8080/",
          "height": 37
        },
        "id": "04AoLZPlQp2O",
        "outputId": "fdf5d59f-d35e-459a-b74e-6459650516d6"
      },
      "execution_count": null,
      "outputs": [
        {
          "output_type": "execute_result",
          "data": {
            "text/plain": [
              "'OCC3OC(OCC2OC(OC(C#N)c1ccccc1)C(O)C(O)C2O)C(O)C(O)C3O '"
            ],
            "application/vnd.google.colaboratory.intrinsic+json": {
              "type": "string"
            }
          },
          "metadata": {},
          "execution_count": 9
        }
      ]
    },
    {
      "cell_type": "code",
      "source": [
        "from rdkit import Chem\n",
        "from rdkit.Chem.Draw import IPythonConsole\n",
        "molecule = Chem.MolFromSmiles(data[0][\"smiles\"])\n",
        "molecule"
      ],
      "metadata": {
        "colab": {
          "base_uri": "https://localhost:8080/",
          "height": 167
        },
        "id": "mAdH2DEWRMQA",
        "outputId": "aade5ea0-f270-46c5-8a46-142907f133f2"
      },
      "execution_count": null,
      "outputs": [
        {
          "output_type": "execute_result",
          "data": {
            "text/plain": [
              "<rdkit.Chem.rdchem.Mol at 0x7f6535d98030>"
            ],
            "image/png": "[encoded data removed]"
          },
          "metadata": {},
          "execution_count": 10
        }
      ]
    },
    {
      "cell_type": "code",
      "source": [
        "type(molecule)"
      ],
      "metadata": {
        "colab": {
          "base_uri": "https://localhost:8080/"
        },
        "id": "cxzuAa5vROF7",
        "outputId": "bdff62da-2066-4f5c-9ba3-7841d40d191f"
      },
      "execution_count": null,
      "outputs": [
        {
          "output_type": "execute_result",
          "data": {
            "text/plain": [
              "rdkit.Chem.rdchem.Mol"
            ]
          },
          "metadata": {},
          "execution_count": 11
        }
      ]
    },
    {
      "cell_type": "markdown",
      "source": [
        "## **Implementing the Graph Neural Network**"
      ],
      "metadata": {
        "id": "zWCH7zipRbex"
      }
    },
    {
      "cell_type": "markdown",
      "source": [
        "We apply three convolutional layers, which means we learn the information about 3 neighbor hops. After that we apply a pooling layer to combine the information of the individual nodes, as we want to perform graph-level prediction."
      ],
      "metadata": {
        "id": "b-zwa46MRzed"
      }
    },
    {
      "cell_type": "code",
      "source": [
        "import torch\n",
        "from torch.nn import Linear\n",
        "import torch.nn.functional as F \n",
        "from torch_geometric.nn import GCNConv, TopKPooling, global_mean_pool\n",
        "from torch_geometric.nn import global_mean_pool as gap, global_max_pool as gmp\n",
        "embedding_size = 64\n",
        "\n",
        "class GCN(torch.nn.Module):\n",
        "    def __init__(self):\n",
        "        # Init parent\n",
        "        super(GCN, self).__init__()\n",
        "        torch.manual_seed(42)\n",
        "\n",
        "        # GCN layers\n",
        "        self.initial_conv = GCNConv(data.num_features, embedding_size)\n",
        "        self.conv1 = GCNConv(embedding_size, embedding_size)\n",
        "        self.conv2 = GCNConv(embedding_size, embedding_size)\n",
        "        self.conv3 = GCNConv(embedding_size, embedding_size)\n",
        "\n",
        "        # Output layer\n",
        "        self.out = Linear(embedding_size*2, 1)\n",
        "\n",
        "    def forward(self, x, edge_index, batch_index):\n",
        "        # First Conv layer\n",
        "        hidden = self.initial_conv(x, edge_index)\n",
        "        hidden = F.tanh(hidden)\n",
        "\n",
        "        # Other Conv layers\n",
        "        hidden = self.conv1(hidden, edge_index)\n",
        "        hidden = F.tanh(hidden)\n",
        "        hidden = self.conv2(hidden, edge_index)\n",
        "        hidden = F.tanh(hidden)\n",
        "        hidden = self.conv3(hidden, edge_index)\n",
        "        hidden = F.tanh(hidden)\n",
        "          \n",
        "        # Global Pooling (stack different aggregations)\n",
        "        hidden = torch.cat([gmp(hidden, batch_index), \n",
        "                            gap(hidden, batch_index)], dim=1)\n",
        "\n",
        "        # Apply a final (linear) classifier.\n",
        "        out = self.out(hidden)\n",
        "\n",
        "        return out, hidden\n",
        "\n",
        "model = GCN()\n",
        "print(model)\n",
        "print(\"Number of parameters: \", sum(p.numel() for p in model.parameters()))"
      ],
      "metadata": {
        "colab": {
          "base_uri": "https://localhost:8080/"
        },
        "id": "RW4ocvs3RP8o",
        "outputId": "45e1e058-dd5f-49f5-86b4-31d4d0de2a60"
      },
      "execution_count": null,
      "outputs": [
        {
          "output_type": "stream",
          "name": "stdout",
          "text": [
            "GCN(\n",
            "  (initial_conv): GCNConv(9, 64)\n",
            "  (conv1): GCNConv(64, 64)\n",
            "  (conv2): GCNConv(64, 64)\n",
            "  (conv3): GCNConv(64, 64)\n",
            "  (out): Linear(in_features=128, out_features=1, bias=True)\n",
            ")\n",
            "Number of parameters:  13249\n"
          ]
        }
      ]
    },
    {
      "cell_type": "markdown",
      "source": [
        "- We could also reduce the embeddings, but as we have large molecules we use 64\n",
        "- The more layers we add, the more information we get about the graph\n",
        "- For the regression problem we use a Linear layer as final output layer\n",
        "- We try to use not too many parameters, as we only have ~1k samples"
      ],
      "metadata": {
        "id": "Jfe400UIR9ME"
      }
    },
    {
      "cell_type": "markdown",
      "source": [
        "## **Training the GNN**"
      ],
      "metadata": {
        "id": "1iQ1ZTpUSE4r"
      }
    },
    {
      "cell_type": "code",
      "source": [
        "from torch_geometric.data import DataLoader\n",
        "import warnings\n",
        "warnings.filterwarnings(\"ignore\")\n",
        "\n",
        "# Root mean squared error\n",
        "loss_fn = torch.nn.MSELoss()\n",
        "optimizer = torch.optim.Adam(model.parameters(), lr=0.0007)  \n",
        "\n",
        "# Use GPU for training\n",
        "device = torch.device(\"cuda:0\" if torch.cuda.is_available() else \"cpu\")\n",
        "model = model.to(device)\n",
        "\n",
        "# Wrap data in a data loader\n",
        "data_size = len(data)\n",
        "NUM_GRAPHS_PER_BATCH = 64\n",
        "loader = DataLoader(data[:int(data_size * 0.8)], \n",
        "                    batch_size=NUM_GRAPHS_PER_BATCH, shuffle=True)\n",
        "test_loader = DataLoader(data[int(data_size * 0.8):], \n",
        "                         batch_size=NUM_GRAPHS_PER_BATCH, shuffle=True)\n",
        "\n",
        "def train(data):\n",
        "    # Enumerate over the data\n",
        "    for batch in loader:\n",
        "      # Use GPU\n",
        "      batch.to(device)  \n",
        "      # Reset gradients\n",
        "      optimizer.zero_grad() \n",
        "      # Passing the node features and the connection info\n",
        "      pred, embedding = model(batch.x.float(), batch.edge_index, batch.batch) \n",
        "      # Calculating the loss and gradients\n",
        "      loss = loss_fn(pred, batch.y)     \n",
        "      loss.backward()  \n",
        "      # Update using the gradients\n",
        "      optimizer.step()   \n",
        "    return loss, embedding\n",
        "\n",
        "print(\"Starting training...\")\n",
        "losses = []\n",
        "for epoch in range(2000):\n",
        "    loss, h = train(data)\n",
        "    losses.append(loss)\n",
        "    if epoch % 100 == 0:\n",
        "      print(f\"Epoch {epoch} | Train Loss {loss}\")"
      ],
      "metadata": {
        "colab": {
          "base_uri": "https://localhost:8080/"
        },
        "id": "3q2iXZfiR5kZ",
        "outputId": "fb378be5-486f-43ae-f174-4b7349da7cf2"
      },
      "execution_count": null,
      "outputs": [
        {
          "output_type": "stream",
          "name": "stdout",
          "text": [
            "Starting training...\n",
            "Epoch 0 | Train Loss 11.665947914123535\n",
            "Epoch 100 | Train Loss 0.8501365780830383\n",
            "Epoch 200 | Train Loss 1.1234135627746582\n",
            "Epoch 300 | Train Loss 0.3232514560222626\n",
            "Epoch 400 | Train Loss 0.23266680538654327\n",
            "Epoch 500 | Train Loss 0.37392565608024597\n",
            "Epoch 600 | Train Loss 0.24749667942523956\n",
            "Epoch 700 | Train Loss 0.06702058762311935\n",
            "Epoch 800 | Train Loss 0.14798931777477264\n",
            "Epoch 900 | Train Loss 0.16116125881671906\n",
            "Epoch 1000 | Train Loss 0.07040136307477951\n",
            "Epoch 1100 | Train Loss 0.040824901312589645\n",
            "Epoch 1200 | Train Loss 0.0514899380505085\n",
            "Epoch 1300 | Train Loss 0.06970103830099106\n",
            "Epoch 1400 | Train Loss 0.01631765440106392\n",
            "Epoch 1500 | Train Loss 0.015620746649801731\n",
            "Epoch 1600 | Train Loss 0.07004724442958832\n",
            "Epoch 1700 | Train Loss 0.01887921616435051\n",
            "Epoch 1800 | Train Loss 0.06693244725465775\n",
            "Epoch 1900 | Train Loss 0.05782182887196541\n"
          ]
        }
      ]
    },
    {
      "cell_type": "markdown",
      "source": [
        "## **Visualizing the Training loss**"
      ],
      "metadata": {
        "id": "chbZ19k2SMN4"
      }
    },
    {
      "cell_type": "code",
      "source": [
        "# Visualize learning (training loss)\n",
        "import seaborn as sns\n",
        "losses_float = [float(loss.cpu().detach().numpy()) for loss in losses] \n",
        "loss_indices = [i for i,l in enumerate(losses_float)] \n",
        "plt = sns.lineplot(loss_indices, losses_float)\n",
        "plt"
      ],
      "metadata": {
        "colab": {
          "base_uri": "https://localhost:8080/",
          "height": 282
        },
        "id": "ZCnc2_4-SJsM",
        "outputId": "e30aa84e-0734-48a7-d24f-ef1d5f5fe4c2"
      },
      "execution_count": null,
      "outputs": [
        {
          "output_type": "execute_result",
          "data": {
            "text/plain": [
              "<matplotlib.axes._subplots.AxesSubplot at 0x7f65096d6c90>"
            ]
          },
          "metadata": {},
          "execution_count": 14
        },
        {
          "output_type": "display_data",
          "data": {
            "text/plain": [
              "<Figure size 432x288 with 1 Axes>"
            ],
            "image/png": "[encoded data removed]"
          },
          "metadata": {
            "needs_background": "light"
          }
        }
      ]
    },
    {
      "cell_type": "markdown",
      "source": [
        "## **Getting a test prediction**"
      ],
      "metadata": {
        "id": "ZyqfVKMuSXnU"
      }
    },
    {
      "cell_type": "code",
      "source": [
        "import pandas as pd \n",
        "\n",
        "# Analyze the results for one batch\n",
        "test_batch = next(iter(test_loader))\n",
        "with torch.no_grad():\n",
        "    test_batch.to(device)\n",
        "    pred, embed = model(test_batch.x.float(), test_batch.edge_index, test_batch.batch) \n",
        "    df = pd.DataFrame()\n",
        "    df[\"y_real\"] = test_batch.y.tolist()\n",
        "    df[\"y_pred\"] = pred.tolist()\n",
        "df[\"y_real\"] = df[\"y_real\"].apply(lambda row: row[0])\n",
        "df[\"y_pred\"] = df[\"y_pred\"].apply(lambda row: row[0])\n",
        "df"
      ],
      "metadata": {
        "colab": {
          "base_uri": "https://localhost:8080/",
          "height": 419
        },
        "id": "gNshhMSqSVE4",
        "outputId": "5c765d26-14cf-4220-dd71-f90d26f2475f"
      },
      "execution_count": null,
      "outputs": [
        {
          "output_type": "execute_result",
          "data": {
            "text/plain": [
              "    y_real    y_pred\n",
              "0    0.940  0.448874\n",
              "1   -6.237 -2.817357\n",
              "2   -2.540 -2.595799\n",
              "3   -5.680 -5.954565\n",
              "4   -2.460 -2.055808\n",
              "..     ...       ...\n",
              "59  -1.890 -1.518584\n",
              "60  -2.218 -4.692311\n",
              "61  -3.583 -1.441979\n",
              "62  -2.580 -2.434007\n",
              "63  -4.360 -4.398304\n",
              "\n",
              "[64 rows x 2 columns]"
            ],
            "text/html": [
              "\n",
              "  <div id=\"df-2a49f5e2-3acc-4d93-9c07-8fd264fee963\">\n",
              "    <div class=\"colab-df-container\">\n",
              "      <div>\n",
              "<style scoped>\n",
              "    .dataframe tbody tr th:only-of-type {\n",
              "        vertical-align: middle;\n",
              "    }\n",
              "\n",
              "    .dataframe tbody tr th {\n",
              "        vertical-align: top;\n",
              "    }\n",
              "\n",
              "    .dataframe thead th {\n",
              "        text-align: right;\n",
              "    }\n",
              "</style>\n",
              "<table border=\"1\" class=\"dataframe\">\n",
              "  <thead>\n",
              "    <tr style=\"text-align: right;\">\n",
              "      <th></th>\n",
              "      <th>y_real</th>\n",
              "      <th>y_pred</th>\n",
              "    </tr>\n",
              "  </thead>\n",
              "  <tbody>\n",
              "    <tr>\n",
              "      <th>0</th>\n",
              "      <td>0.940</td>\n",
              "      <td>0.448874</td>\n",
              "    </tr>\n",
              "    <tr>\n",
              "      <th>1</th>\n",
              "      <td>-6.237</td>\n",
              "      <td>-2.817357</td>\n",
              "    </tr>\n",
              "    <tr>\n",
              "      <th>2</th>\n",
              "      <td>-2.540</td>\n",
              "      <td>-2.595799</td>\n",
              "    </tr>\n",
              "    <tr>\n",
              "      <th>3</th>\n",
              "      <td>-5.680</td>\n",
              "      <td>-5.954565</td>\n",
              "    </tr>\n",
              "    <tr>\n",
              "      <th>4</th>\n",
              "      <td>-2.460</td>\n",
              "      <td>-2.055808</td>\n",
              "    </tr>\n",
              "    <tr>\n",
              "      <th>...</th>\n",
              "      <td>...</td>\n",
              "      <td>...</td>\n",
              "    </tr>\n",
              "    <tr>\n",
              "      <th>59</th>\n",
              "      <td>-1.890</td>\n",
              "      <td>-1.518584</td>\n",
              "    </tr>\n",
              "    <tr>\n",
              "      <th>60</th>\n",
              "      <td>-2.218</td>\n",
              "      <td>-4.692311</td>\n",
              "    </tr>\n",
              "    <tr>\n",
              "      <th>61</th>\n",
              "      <td>-3.583</td>\n",
              "      <td>-1.441979</td>\n",
              "    </tr>\n",
              "    <tr>\n",
              "      <th>62</th>\n",
              "      <td>-2.580</td>\n",
              "      <td>-2.434007</td>\n",
              "    </tr>\n",
              "    <tr>\n",
              "      <th>63</th>\n",
              "      <td>-4.360</td>\n",
              "      <td>-4.398304</td>\n",
              "    </tr>\n",
              "  </tbody>\n",
              "</table>\n",
              "<p>64 rows × 2 columns</p>\n",
              "</div>\n",
              "      <button class=\"colab-df-convert\" onclick=\"convertToInteractive('df-2a49f5e2-3acc-4d93-9c07-8fd264fee963')\"\n",
              "              title=\"Convert this dataframe to an interactive table.\"\n",
              "              style=\"display:none;\">\n",
              "        \n",
              "  <svg xmlns=\"http://www.w3.org/2000/svg\" height=\"24px\"viewBox=\"0 0 24 24\"\n",
              "       width=\"24px\">\n",
              "    <path d=\"M0 0h24v24H0V0z\" fill=\"none\"/>\n",
              "    <path d=\"M18.56 5.44l.94 2.06.94-2.06 2.06-.94-2.06-.94-.94-2.06-.94 2.06-2.06.94zm-11 1L8.5 8.5l.94-2.06 2.06-.94-2.06-.94L8.5 2.5l-.94 2.06-2.06.94zm10 10l.94 2.06.94-2.06 2.06-.94-2.06-.94-.94-2.06-.94 2.06-2.06.94z\"/><path d=\"M17.41 7.96l-1.37-1.37c-.4-.4-.92-.59-1.43-.59-.52 0-1.04.2-1.43.59L10.3 9.45l-7.72 7.72c-.78.78-.78 2.05 0 2.83L4 21.41c.39.39.9.59 1.41.59.51 0 1.02-.2 1.41-.59l7.78-7.78 2.81-2.81c.8-.78.8-2.07 0-2.86zM5.41 20L4 18.59l7.72-7.72 1.47 1.35L5.41 20z\"/>\n",
              "  </svg>\n",
              "      </button>\n",
              "      \n",
              "  <style>\n",
              "    .colab-df-container {\n",
              "      display:flex;\n",
              "      flex-wrap:wrap;\n",
              "      gap: 12px;\n",
              "    }\n",
              "\n",
              "    .colab-df-convert {\n",
              "      background-color: #E8F0FE;\n",
              "      border: none;\n",
              "      border-radius: 50%;\n",
              "      cursor: pointer;\n",
              "      display: none;\n",
              "      fill: #1967D2;\n",
              "      height: 32px;\n",
              "      padding: 0 0 0 0;\n",
              "      width: 32px;\n",
              "    }\n",
              "\n",
              "    .colab-df-convert:hover {\n",
              "      background-color: #E2EBFA;\n",
              "      box-shadow: 0px 1px 2px rgba(60, 64, 67, 0.3), 0px 1px 3px 1px rgba(60, 64, 67, 0.15);\n",
              "      fill: #174EA6;\n",
              "    }\n",
              "\n",
              "    [theme=dark] .colab-df-convert {\n",
              "      background-color: #3B4455;\n",
              "      fill: #D2E3FC;\n",
              "    }\n",
              "\n",
              "    [theme=dark] .colab-df-convert:hover {\n",
              "      background-color: #434B5C;\n",
              "      box-shadow: 0px 1px 3px 1px rgba(0, 0, 0, 0.15);\n",
              "      filter: drop-shadow(0px 1px 2px rgba(0, 0, 0, 0.3));\n",
              "      fill: #FFFFFF;\n",
              "    }\n",
              "  </style>\n",
              "\n",
              "      <script>\n",
              "        const buttonEl =\n",
              "          document.querySelector('#df-2a49f5e2-3acc-4d93-9c07-8fd264fee963 button.colab-df-convert');\n",
              "        buttonEl.style.display =\n",
              "          google.colab.kernel.accessAllowed ? 'block' : 'none';\n",
              "\n",
              "        async function convertToInteractive(key) {\n",
              "          const element = document.querySelector('#df-2a49f5e2-3acc-4d93-9c07-8fd264fee963');\n",
              "          const dataTable =\n",
              "            await google.colab.kernel.invokeFunction('convertToInteractive',\n",
              "                                                     [key], {});\n",
              "          if (!dataTable) return;\n",
              "\n",
              "          const docLinkHtml = 'Like what you see? Visit the ' +\n",
              "            '<a target=\"_blank\" href=https://colab.research.google.com/notebooks/data_table.ipynb>data table notebook</a>'\n",
              "            + ' to learn more about interactive tables.';\n",
              "          element.innerHTML = '';\n",
              "          dataTable['output_type'] = 'display_data';\n",
              "          await google.colab.output.renderOutput(dataTable, element);\n",
              "          const docLink = document.createElement('div');\n",
              "          docLink.innerHTML = docLinkHtml;\n",
              "          element.appendChild(docLink);\n",
              "        }\n",
              "      </script>\n",
              "    </div>\n",
              "  </div>\n",
              "  "
            ]
          },
          "metadata": {},
          "execution_count": 15
        }
      ]
    },
    {
      "cell_type": "code",
      "source": [
        "plt = sns.scatterplot(data=df, x=\"y_real\", y=\"y_pred\")\n",
        "plt.set(xlim=(-7, 2))\n",
        "plt.set(ylim=(-7, 2))\n",
        "plt"
      ],
      "metadata": {
        "colab": {
          "base_uri": "https://localhost:8080/",
          "height": 301
        },
        "id": "fbYbnLSOSb1Y",
        "outputId": "f1abdbcb-06f9-41a1-e9ba-755daad73b09"
      },
      "execution_count": null,
      "outputs": [
        {
          "output_type": "execute_result",
          "data": {
            "text/plain": [
              "<matplotlib.axes._subplots.AxesSubplot at 0x7f6509092bd0>"
            ]
          },
          "metadata": {},
          "execution_count": 16
        },
        {
          "output_type": "display_data",
          "data": {
            "text/plain": [
              "<Figure size 432x288 with 1 Axes>"
            ],
            "image/png": "[encoded data removed]"
          },
          "metadata": {
            "needs_background": "light"
          }
        }
      ]
    },
    {
      "cell_type": "markdown",
      "source": [
        "## **References**\n",
        "\n"
      ],
      "metadata": {
        "id": "j6g5L38EVOul"
      }
    },
    {
      "cell_type": "markdown",
      "source": [
        "- https://colab.research.google.com/drive/1IZcHH-Us7LuDBDCD5Z34Rbfui2XObFrn?usp=sharing#scrollTo=1BEIQNTF8Qei\n",
        "- https://colab.research.google.com/drive/1I8a0DfQ3fI7Njc62__mVXUlcAleUclnb?usp=sharing#scrollTo=j11WiUr-PRH_"
      ],
      "metadata": {
        "id": "YP5NhBlG1QZd"
      }
    }
  ]
}