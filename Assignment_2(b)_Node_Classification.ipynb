{
  "cells": [
    {
      "cell_type": "markdown",
      "metadata": {
        "id": "view-in-github",
        "colab_type": "text"
      },
      "source": [
        "<a href=\"https://colab.research.google.com/github/AshikaAnand12/specialTopics/blob/A2-Node-classification/Assignment_2(b)_Node_Classification.ipynb\" target=\"_parent\"><img src=\"https://colab.research.google.com/assets/colab-badge.svg\" alt=\"Open In Colab\"/></a>"
      ]
    },
    {
      "cell_type": "markdown",
      "metadata": {
        "id": "ZjvXjwSbVvMl"
      },
      "source": [
        "# Node classification with Graph Convolutional Network (GCN)\n",
        "\n"
      ]
    },
    {
      "cell_type": "code",
      "execution_count": 1,
      "metadata": {
        "nbsphinx": "hidden",
        "tags": [
          "CloudRunner"
        ],
        "id": "YcdTPpDEVvMw",
        "colab": {
          "base_uri": "https://localhost:8080/"
        },
        "outputId": "3e17d011-d5a6-4872-e7df-10510939cd5c"
      },
      "outputs": [
        {
          "output_type": "stream",
          "name": "stdout",
          "text": [
            "\u001b[K     |████████████████████████████████| 435 kB 22.5 MB/s \n",
            "\u001b[K     |████████████████████████████████| 500 kB 59.3 MB/s \n",
            "\u001b[K     |████████████████████████████████| 120 kB 61.7 MB/s \n",
            "\u001b[K     |████████████████████████████████| 1.6 MB 44.1 MB/s \n",
            "\u001b[K     |████████████████████████████████| 82 kB 807 kB/s \n",
            "\u001b[K     |████████████████████████████████| 41 kB 569 kB/s \n",
            "\u001b[?25h  Building wheel for mplleaflet (setup.py) ... \u001b[?25l\u001b[?25hdone\n"
          ]
        }
      ],
      "source": [
        "# install StellarGraph if running on Google Colab\n",
        "import sys\n",
        "if 'google.colab' in sys.modules:\n",
        "  %pip install -q stellargraph[demos]==1.2.1"
      ]
    },
    {
      "cell_type": "code",
      "execution_count": 2,
      "metadata": {
        "nbsphinx": "hidden",
        "tags": [
          "VersionCheck"
        ],
        "id": "mPdqUX1HVvMx"
      },
      "outputs": [],
      "source": [
        "# verify that we're using the correct version of StellarGraph for this notebook\n",
        "import stellargraph as sg\n",
        "\n",
        "try:\n",
        "    sg.utils.validate_notebook_version(\"1.2.1\")\n",
        "except AttributeError:\n",
        "    raise ValueError(\n",
        "        f\"This notebook requires StellarGraph version 1.2.1, but a different version {sg.__version__} is installed.  Please see <https://github.com/stellargraph/stellargraph/issues/1172>.\"\n",
        "    ) from None"
      ]
    },
    {
      "cell_type": "code",
      "execution_count": 3,
      "metadata": {
        "id": "1fiE4lPJVvMz"
      },
      "outputs": [],
      "source": [
        "import pandas as pd\n",
        "import os\n",
        "\n",
        "import stellargraph as sg\n",
        "from stellargraph.mapper import FullBatchNodeGenerator\n",
        "from stellargraph.layer import GCN\n",
        "\n",
        "from tensorflow.keras import layers, optimizers, losses, metrics, Model\n",
        "from sklearn import preprocessing, model_selection\n",
        "from IPython.display import display, HTML\n",
        "import matplotlib.pyplot as plt\n",
        "%matplotlib inline"
      ]
    },
    {
      "cell_type": "markdown",
      "metadata": {
        "id": "ZT_Qb4xEVvM0"
      },
      "source": [
        "## 1. Data Preparation\n",
        "\n",
        "\n",
        "---\n",
        "\n",
        "\n",
        "### Loading the CORA network"
      ]
    },
    {
      "cell_type": "code",
      "execution_count": 4,
      "metadata": {
        "tags": [
          "DataLoading"
        ],
        "id": "J_JCoe8GVvM4",
        "outputId": "20539ead-e5e7-4c0a-9fbc-d42b1b434b75",
        "colab": {
          "base_uri": "https://localhost:8080/",
          "height": 51
        }
      },
      "outputs": [
        {
          "output_type": "display_data",
          "data": {
            "text/plain": [
              "<IPython.core.display.HTML object>"
            ],
            "text/html": [
              "The Cora dataset consists of 2708 scientific publications classified into one of seven classes. The citation network consists of 5429 links. Each publication in the dataset is described by a 0/1-valued word vector indicating the absence/presence of the corresponding word from the dictionary. The dictionary consists of 1433 unique words."
            ]
          },
          "metadata": {}
        }
      ],
      "source": [
        "dataset = sg.datasets.Cora()\n",
        "display(HTML(dataset.description))\n",
        "G, node_subjects = dataset.load()"
      ]
    },
    {
      "cell_type": "markdown",
      "metadata": {
        "id": "ieq-uKuoVvM5"
      },
      "source": [
        "The `info` method can help us verify that our loaded graph matches the description:"
      ]
    },
    {
      "cell_type": "code",
      "execution_count": 5,
      "metadata": {
        "id": "jiIX05CIVvM5",
        "outputId": "56b2c105-0828-4658-e8aa-6cd7d548978c",
        "colab": {
          "base_uri": "https://localhost:8080/"
        }
      },
      "outputs": [
        {
          "output_type": "stream",
          "name": "stdout",
          "text": [
            "StellarGraph: Undirected multigraph\n",
            " Nodes: 2708, Edges: 5429\n",
            "\n",
            " Node types:\n",
            "  paper: [2708]\n",
            "    Features: float32 vector, length 1433\n",
            "    Edge types: paper-cites->paper\n",
            "\n",
            " Edge types:\n",
            "    paper-cites->paper: [5429]\n",
            "        Weights: all 1 (default)\n",
            "        Features: none\n"
          ]
        }
      ],
      "source": [
        "print(G.info())"
      ]
    },
    {
      "cell_type": "markdown",
      "metadata": {
        "id": "ikXIqPK-VvM6"
      },
      "source": [
        "We aim to train a graph-ML model that will predict the \"subject\" attribute on the nodes. These subjects are one of 7 categories, with some categories more common than others:"
      ]
    },
    {
      "cell_type": "code",
      "execution_count": 6,
      "metadata": {
        "id": "bTK5FR6SVvM6",
        "outputId": "712cc962-4257-444f-8b3b-f566fbc3a6ce",
        "colab": {
          "base_uri": "https://localhost:8080/",
          "height": 266
        }
      },
      "outputs": [
        {
          "output_type": "execute_result",
          "data": {
            "text/plain": [
              "                        subject\n",
              "Neural_Networks             818\n",
              "Probabilistic_Methods       426\n",
              "Genetic_Algorithms          418\n",
              "Theory                      351\n",
              "Case_Based                  298\n",
              "Reinforcement_Learning      217\n",
              "Rule_Learning               180"
            ],
            "text/html": [
              "\n",
              "  <div id=\"df-b8e66e58-5aca-4587-b93a-d90adc63bae2\">\n",
              "    <div class=\"colab-df-container\">\n",
              "      <div>\n",
              "<style scoped>\n",
              "    .dataframe tbody tr th:only-of-type {\n",
              "        vertical-align: middle;\n",
              "    }\n",
              "\n",
              "    .dataframe tbody tr th {\n",
              "        vertical-align: top;\n",
              "    }\n",
              "\n",
              "    .dataframe thead th {\n",
              "        text-align: right;\n",
              "    }\n",
              "</style>\n",
              "<table border=\"1\" class=\"dataframe\">\n",
              "  <thead>\n",
              "    <tr style=\"text-align: right;\">\n",
              "      <th></th>\n",
              "      <th>subject</th>\n",
              "    </tr>\n",
              "  </thead>\n",
              "  <tbody>\n",
              "    <tr>\n",
              "      <th>Neural_Networks</th>\n",
              "      <td>818</td>\n",
              "    </tr>\n",
              "    <tr>\n",
              "      <th>Probabilistic_Methods</th>\n",
              "      <td>426</td>\n",
              "    </tr>\n",
              "    <tr>\n",
              "      <th>Genetic_Algorithms</th>\n",
              "      <td>418</td>\n",
              "    </tr>\n",
              "    <tr>\n",
              "      <th>Theory</th>\n",
              "      <td>351</td>\n",
              "    </tr>\n",
              "    <tr>\n",
              "      <th>Case_Based</th>\n",
              "      <td>298</td>\n",
              "    </tr>\n",
              "    <tr>\n",
              "      <th>Reinforcement_Learning</th>\n",
              "      <td>217</td>\n",
              "    </tr>\n",
              "    <tr>\n",
              "      <th>Rule_Learning</th>\n",
              "      <td>180</td>\n",
              "    </tr>\n",
              "  </tbody>\n",
              "</table>\n",
              "</div>\n",
              "      <button class=\"colab-df-convert\" onclick=\"convertToInteractive('df-b8e66e58-5aca-4587-b93a-d90adc63bae2')\"\n",
              "              title=\"Convert this dataframe to an interactive table.\"\n",
              "              style=\"display:none;\">\n",
              "        \n",
              "  <svg xmlns=\"http://www.w3.org/2000/svg\" height=\"24px\"viewBox=\"0 0 24 24\"\n",
              "       width=\"24px\">\n",
              "    <path d=\"M0 0h24v24H0V0z\" fill=\"none\"/>\n",
              "    <path d=\"M18.56 5.44l.94 2.06.94-2.06 2.06-.94-2.06-.94-.94-2.06-.94 2.06-2.06.94zm-11 1L8.5 8.5l.94-2.06 2.06-.94-2.06-.94L8.5 2.5l-.94 2.06-2.06.94zm10 10l.94 2.06.94-2.06 2.06-.94-2.06-.94-.94-2.06-.94 2.06-2.06.94z\"/><path d=\"M17.41 7.96l-1.37-1.37c-.4-.4-.92-.59-1.43-.59-.52 0-1.04.2-1.43.59L10.3 9.45l-7.72 7.72c-.78.78-.78 2.05 0 2.83L4 21.41c.39.39.9.59 1.41.59.51 0 1.02-.2 1.41-.59l7.78-7.78 2.81-2.81c.8-.78.8-2.07 0-2.86zM5.41 20L4 18.59l7.72-7.72 1.47 1.35L5.41 20z\"/>\n",
              "  </svg>\n",
              "      </button>\n",
              "      \n",
              "  <style>\n",
              "    .colab-df-container {\n",
              "      display:flex;\n",
              "      flex-wrap:wrap;\n",
              "      gap: 12px;\n",
              "    }\n",
              "\n",
              "    .colab-df-convert {\n",
              "      background-color: #E8F0FE;\n",
              "      border: none;\n",
              "      border-radius: 50%;\n",
              "      cursor: pointer;\n",
              "      display: none;\n",
              "      fill: #1967D2;\n",
              "      height: 32px;\n",
              "      padding: 0 0 0 0;\n",
              "      width: 32px;\n",
              "    }\n",
              "\n",
              "    .colab-df-convert:hover {\n",
              "      background-color: #E2EBFA;\n",
              "      box-shadow: 0px 1px 2px rgba(60, 64, 67, 0.3), 0px 1px 3px 1px rgba(60, 64, 67, 0.15);\n",
              "      fill: #174EA6;\n",
              "    }\n",
              "\n",
              "    [theme=dark] .colab-df-convert {\n",
              "      background-color: #3B4455;\n",
              "      fill: #D2E3FC;\n",
              "    }\n",
              "\n",
              "    [theme=dark] .colab-df-convert:hover {\n",
              "      background-color: #434B5C;\n",
              "      box-shadow: 0px 1px 3px 1px rgba(0, 0, 0, 0.15);\n",
              "      filter: drop-shadow(0px 1px 2px rgba(0, 0, 0, 0.3));\n",
              "      fill: #FFFFFF;\n",
              "    }\n",
              "  </style>\n",
              "\n",
              "      <script>\n",
              "        const buttonEl =\n",
              "          document.querySelector('#df-b8e66e58-5aca-4587-b93a-d90adc63bae2 button.colab-df-convert');\n",
              "        buttonEl.style.display =\n",
              "          google.colab.kernel.accessAllowed ? 'block' : 'none';\n",
              "\n",
              "        async function convertToInteractive(key) {\n",
              "          const element = document.querySelector('#df-b8e66e58-5aca-4587-b93a-d90adc63bae2');\n",
              "          const dataTable =\n",
              "            await google.colab.kernel.invokeFunction('convertToInteractive',\n",
              "                                                     [key], {});\n",
              "          if (!dataTable) return;\n",
              "\n",
              "          const docLinkHtml = 'Like what you see? Visit the ' +\n",
              "            '<a target=\"_blank\" href=https://colab.research.google.com/notebooks/data_table.ipynb>data table notebook</a>'\n",
              "            + ' to learn more about interactive tables.';\n",
              "          element.innerHTML = '';\n",
              "          dataTable['output_type'] = 'display_data';\n",
              "          await google.colab.output.renderOutput(dataTable, element);\n",
              "          const docLink = document.createElement('div');\n",
              "          docLink.innerHTML = docLinkHtml;\n",
              "          element.appendChild(docLink);\n",
              "        }\n",
              "      </script>\n",
              "    </div>\n",
              "  </div>\n",
              "  "
            ]
          },
          "metadata": {},
          "execution_count": 6
        }
      ],
      "source": [
        "node_subjects.value_counts().to_frame()"
      ]
    },
    {
      "cell_type": "markdown",
      "metadata": {
        "id": "oMAS77_7VvM7"
      },
      "source": [
        "### Splitting the data"
      ]
    },
    {
      "cell_type": "markdown",
      "metadata": {
        "id": "smUNOLZGVvM7"
      },
      "source": [
        "For machine learning we want to take a subset of the nodes for training, and use the rest for validation and testing. We'll use scikit-learn's `train_test_split` function.\n",
        "\n",
        "Here we're taking 140 node labels for training, 500 for validation, and the rest for testing."
      ]
    },
    {
      "cell_type": "code",
      "execution_count": 7,
      "metadata": {
        "id": "NTd9-H5oVvM8"
      },
      "outputs": [],
      "source": [
        "train_subjects, test_subjects = model_selection.train_test_split(\n",
        "    node_subjects, train_size=140, test_size=None, stratify=node_subjects\n",
        ")\n",
        "val_subjects, test_subjects = model_selection.train_test_split(\n",
        "    test_subjects, train_size=500, test_size=None, stratify=test_subjects\n",
        ")"
      ]
    },
    {
      "cell_type": "markdown",
      "metadata": {
        "id": "L9hyvtsaVvM9"
      },
      "source": [
        "Note using stratified sampling gives the following counts:"
      ]
    },
    {
      "cell_type": "code",
      "execution_count": 8,
      "metadata": {
        "id": "r1RpZirnVvM9",
        "outputId": "c6858630-b15a-4375-d4d7-cd0fc0ca0130",
        "colab": {
          "base_uri": "https://localhost:8080/",
          "height": 266
        }
      },
      "outputs": [
        {
          "output_type": "execute_result",
          "data": {
            "text/plain": [
              "                        subject\n",
              "Neural_Networks              42\n",
              "Probabilistic_Methods        22\n",
              "Genetic_Algorithms           22\n",
              "Theory                       18\n",
              "Case_Based                   16\n",
              "Reinforcement_Learning       11\n",
              "Rule_Learning                 9"
            ],
            "text/html": [
              "\n",
              "  <div id=\"df-cec0fc19-57d0-46db-9d28-d45907bc8531\">\n",
              "    <div class=\"colab-df-container\">\n",
              "      <div>\n",
              "<style scoped>\n",
              "    .dataframe tbody tr th:only-of-type {\n",
              "        vertical-align: middle;\n",
              "    }\n",
              "\n",
              "    .dataframe tbody tr th {\n",
              "        vertical-align: top;\n",
              "    }\n",
              "\n",
              "    .dataframe thead th {\n",
              "        text-align: right;\n",
              "    }\n",
              "</style>\n",
              "<table border=\"1\" class=\"dataframe\">\n",
              "  <thead>\n",
              "    <tr style=\"text-align: right;\">\n",
              "      <th></th>\n",
              "      <th>subject</th>\n",
              "    </tr>\n",
              "  </thead>\n",
              "  <tbody>\n",
              "    <tr>\n",
              "      <th>Neural_Networks</th>\n",
              "      <td>42</td>\n",
              "    </tr>\n",
              "    <tr>\n",
              "      <th>Probabilistic_Methods</th>\n",
              "      <td>22</td>\n",
              "    </tr>\n",
              "    <tr>\n",
              "      <th>Genetic_Algorithms</th>\n",
              "      <td>22</td>\n",
              "    </tr>\n",
              "    <tr>\n",
              "      <th>Theory</th>\n",
              "      <td>18</td>\n",
              "    </tr>\n",
              "    <tr>\n",
              "      <th>Case_Based</th>\n",
              "      <td>16</td>\n",
              "    </tr>\n",
              "    <tr>\n",
              "      <th>Reinforcement_Learning</th>\n",
              "      <td>11</td>\n",
              "    </tr>\n",
              "    <tr>\n",
              "      <th>Rule_Learning</th>\n",
              "      <td>9</td>\n",
              "    </tr>\n",
              "  </tbody>\n",
              "</table>\n",
              "</div>\n",
              "      <button class=\"colab-df-convert\" onclick=\"convertToInteractive('df-cec0fc19-57d0-46db-9d28-d45907bc8531')\"\n",
              "              title=\"Convert this dataframe to an interactive table.\"\n",
              "              style=\"display:none;\">\n",
              "        \n",
              "  <svg xmlns=\"http://www.w3.org/2000/svg\" height=\"24px\"viewBox=\"0 0 24 24\"\n",
              "       width=\"24px\">\n",
              "    <path d=\"M0 0h24v24H0V0z\" fill=\"none\"/>\n",
              "    <path d=\"M18.56 5.44l.94 2.06.94-2.06 2.06-.94-2.06-.94-.94-2.06-.94 2.06-2.06.94zm-11 1L8.5 8.5l.94-2.06 2.06-.94-2.06-.94L8.5 2.5l-.94 2.06-2.06.94zm10 10l.94 2.06.94-2.06 2.06-.94-2.06-.94-.94-2.06-.94 2.06-2.06.94z\"/><path d=\"M17.41 7.96l-1.37-1.37c-.4-.4-.92-.59-1.43-.59-.52 0-1.04.2-1.43.59L10.3 9.45l-7.72 7.72c-.78.78-.78 2.05 0 2.83L4 21.41c.39.39.9.59 1.41.59.51 0 1.02-.2 1.41-.59l7.78-7.78 2.81-2.81c.8-.78.8-2.07 0-2.86zM5.41 20L4 18.59l7.72-7.72 1.47 1.35L5.41 20z\"/>\n",
              "  </svg>\n",
              "      </button>\n",
              "      \n",
              "  <style>\n",
              "    .colab-df-container {\n",
              "      display:flex;\n",
              "      flex-wrap:wrap;\n",
              "      gap: 12px;\n",
              "    }\n",
              "\n",
              "    .colab-df-convert {\n",
              "      background-color: #E8F0FE;\n",
              "      border: none;\n",
              "      border-radius: 50%;\n",
              "      cursor: pointer;\n",
              "      display: none;\n",
              "      fill: #1967D2;\n",
              "      height: 32px;\n",
              "      padding: 0 0 0 0;\n",
              "      width: 32px;\n",
              "    }\n",
              "\n",
              "    .colab-df-convert:hover {\n",
              "      background-color: #E2EBFA;\n",
              "      box-shadow: 0px 1px 2px rgba(60, 64, 67, 0.3), 0px 1px 3px 1px rgba(60, 64, 67, 0.15);\n",
              "      fill: #174EA6;\n",
              "    }\n",
              "\n",
              "    [theme=dark] .colab-df-convert {\n",
              "      background-color: #3B4455;\n",
              "      fill: #D2E3FC;\n",
              "    }\n",
              "\n",
              "    [theme=dark] .colab-df-convert:hover {\n",
              "      background-color: #434B5C;\n",
              "      box-shadow: 0px 1px 3px 1px rgba(0, 0, 0, 0.15);\n",
              "      filter: drop-shadow(0px 1px 2px rgba(0, 0, 0, 0.3));\n",
              "      fill: #FFFFFF;\n",
              "    }\n",
              "  </style>\n",
              "\n",
              "      <script>\n",
              "        const buttonEl =\n",
              "          document.querySelector('#df-cec0fc19-57d0-46db-9d28-d45907bc8531 button.colab-df-convert');\n",
              "        buttonEl.style.display =\n",
              "          google.colab.kernel.accessAllowed ? 'block' : 'none';\n",
              "\n",
              "        async function convertToInteractive(key) {\n",
              "          const element = document.querySelector('#df-cec0fc19-57d0-46db-9d28-d45907bc8531');\n",
              "          const dataTable =\n",
              "            await google.colab.kernel.invokeFunction('convertToInteractive',\n",
              "                                                     [key], {});\n",
              "          if (!dataTable) return;\n",
              "\n",
              "          const docLinkHtml = 'Like what you see? Visit the ' +\n",
              "            '<a target=\"_blank\" href=https://colab.research.google.com/notebooks/data_table.ipynb>data table notebook</a>'\n",
              "            + ' to learn more about interactive tables.';\n",
              "          element.innerHTML = '';\n",
              "          dataTable['output_type'] = 'display_data';\n",
              "          await google.colab.output.renderOutput(dataTable, element);\n",
              "          const docLink = document.createElement('div');\n",
              "          docLink.innerHTML = docLinkHtml;\n",
              "          element.appendChild(docLink);\n",
              "        }\n",
              "      </script>\n",
              "    </div>\n",
              "  </div>\n",
              "  "
            ]
          },
          "metadata": {},
          "execution_count": 8
        }
      ],
      "source": [
        "train_subjects.value_counts().to_frame()"
      ]
    },
    {
      "cell_type": "markdown",
      "metadata": {
        "id": "Iyo0LskIVvM9"
      },
      "source": [
        "The training set has class imbalance that might need to be compensated, e.g., via using a weighted cross-entropy loss in model training, with class weights inversely proportional to class support. However, we will ignore the class imbalance in this example, for simplicity."
      ]
    },
    {
      "cell_type": "markdown",
      "metadata": {
        "id": "M38VVbZYVvM-"
      },
      "source": [
        "### Converting to numeric arrays"
      ]
    },
    {
      "cell_type": "markdown",
      "metadata": {
        "id": "v2p1fJJ-VvM-"
      },
      "source": [
        "For our categorical target, we will use one-hot vectors that will be compared against the model's soft-max output. To do this conversion we can use the `LabelBinarizer` transform. Another option would be the `pandas.get_dummies` function, but the scikit-learn transform allows us to do the inverse transform easily later in the notebook, to interpret the predictions."
      ]
    },
    {
      "cell_type": "code",
      "execution_count": 9,
      "metadata": {
        "id": "zI41FssyVvM-"
      },
      "outputs": [],
      "source": [
        "target_encoding = preprocessing.LabelBinarizer()\n",
        "\n",
        "train_targets = target_encoding.fit_transform(train_subjects)\n",
        "val_targets = target_encoding.transform(val_subjects)\n",
        "test_targets = target_encoding.transform(test_subjects)"
      ]
    },
    {
      "cell_type": "markdown",
      "metadata": {
        "id": "vBHnbT5sVvM_"
      },
      "source": [
        "The CORA dataset contains attributes `w_x` that correspond to words found in that publication. If a word occurs more than once in a publication the relevant attribute will be set to one, otherwise it will be zero. These numeric attributes have been automatically included in the `StellarGraph` instance `G`, and so we do not have to do any further conversion."
      ]
    },
    {
      "cell_type": "code",
      "execution_count": 10,
      "metadata": {
        "id": "wqT9PhS2VvNA",
        "outputId": "bca05706-15af-489d-8d26-ebb85a2a2a33",
        "colab": {
          "base_uri": "https://localhost:8080/"
        }
      },
      "outputs": [
        {
          "output_type": "stream",
          "name": "stdout",
          "text": [
            "Using GCN (local pooling) filters...\n"
          ]
        }
      ],
      "source": [
        "generator = FullBatchNodeGenerator(G, method=\"gcn\")"
      ]
    },
    {
      "cell_type": "code",
      "execution_count": 11,
      "metadata": {
        "id": "4buUIz69VvNA"
      },
      "outputs": [],
      "source": [
        "train_gen = generator.flow(train_subjects.index, train_targets)"
      ]
    },
    {
      "cell_type": "code",
      "execution_count": 12,
      "metadata": {
        "id": "uS1lpDTUVvNB"
      },
      "outputs": [],
      "source": [
        "gcn = GCN(\n",
        "    layer_sizes=[16, 16], activations=[\"relu\", \"relu\"], generator=generator, dropout=0.5\n",
        ")"
      ]
    },
    {
      "cell_type": "markdown",
      "metadata": {
        "id": "H6RjAqZMVvNB"
      },
      "source": [
        "To create a Keras model we now expose the input and output tensors of the GCN model for node prediction, via the `GCN.in_out_tensors` method:"
      ]
    },
    {
      "cell_type": "code",
      "execution_count": 13,
      "metadata": {
        "id": "EI2aukKJVvNC",
        "outputId": "f3945552-be5f-446a-b07a-91c0bbc28c8b",
        "colab": {
          "base_uri": "https://localhost:8080/"
        }
      },
      "outputs": [
        {
          "output_type": "execute_result",
          "data": {
            "text/plain": [
              "<KerasTensor: shape=(1, None, 16) dtype=float32 (created by layer 'gather_indices')>"
            ]
          },
          "metadata": {},
          "execution_count": 13
        }
      ],
      "source": [
        "x_inp, x_out = gcn.in_out_tensors()\n",
        "\n",
        "x_out"
      ]
    },
    {
      "cell_type": "code",
      "execution_count": 14,
      "metadata": {
        "id": "umKcMNXzVvND"
      },
      "outputs": [],
      "source": [
        "predictions = layers.Dense(units=train_targets.shape[1], activation=\"softmax\")(x_out)"
      ]
    },
    {
      "cell_type": "markdown",
      "metadata": {
        "id": "bL3wbx1sVvND"
      },
      "source": [
        "## 3. Training and evaluating\n",
        "\n",
        "### Training the model"
      ]
    },
    {
      "cell_type": "markdown",
      "metadata": {
        "id": "8M_UC8yhVvNF"
      },
      "source": [
        "Now let's create the actual Keras model with the input tensors `x_inp` and output tensors being the predictions `predictions` from the final dense layer. Our task is a categorical prediction task, so a categorical cross-entropy loss function is appropriate. Even though we're doing graph ML with StellarGraph, we're still working with conventional Keras prediction values, so we can use the loss function from Keras directly."
      ]
    },
    {
      "cell_type": "code",
      "execution_count": 15,
      "metadata": {
        "id": "iXGr1XPmVvNF",
        "colab": {
          "base_uri": "https://localhost:8080/"
        },
        "outputId": "b3c2a9bc-fad4-4c2a-9e48-dfbc0f61073f"
      },
      "outputs": [
        {
          "output_type": "stream",
          "name": "stderr",
          "text": [
            "/usr/local/lib/python3.7/dist-packages/keras/optimizers/optimizer_v2/adam.py:110: UserWarning: The `lr` argument is deprecated, use `learning_rate` instead.\n",
            "  super(Adam, self).__init__(name, **kwargs)\n"
          ]
        }
      ],
      "source": [
        "model = Model(inputs=x_inp, outputs=predictions)\n",
        "model.compile(\n",
        "    optimizer=optimizers.Adam(lr=0.01),\n",
        "    loss=losses.categorical_crossentropy,\n",
        "    metrics=[\"acc\"],\n",
        ")"
      ]
    },
    {
      "cell_type": "markdown",
      "metadata": {
        "id": "fEAcWzL8VvNF"
      },
      "source": [
        "As we're training the model, we'll want to also keep track of its generalisation performance on the validation set, which means creating another data generator, using our `FullBatchNodeGenerator` we created above."
      ]
    },
    {
      "cell_type": "code",
      "execution_count": 16,
      "metadata": {
        "id": "429D8-_zVvNF"
      },
      "outputs": [],
      "source": [
        "val_gen = generator.flow(val_subjects.index, val_targets)"
      ]
    },
    {
      "cell_type": "markdown",
      "metadata": {
        "id": "Lo56-rVfVvNG"
      },
      "source": [
        "We can directly use the `EarlyStopping` functionality to stop training if the validation accuracy stops improving."
      ]
    },
    {
      "cell_type": "code",
      "execution_count": 17,
      "metadata": {
        "id": "NrwKBK4IVvNH"
      },
      "outputs": [],
      "source": [
        "from tensorflow.keras.callbacks import EarlyStopping\n",
        "\n",
        "es_callback = EarlyStopping(monitor=\"val_acc\", patience=50, restore_best_weights=True)"
      ]
    },
    {
      "cell_type": "code",
      "execution_count": 18,
      "metadata": {
        "id": "XsCnAKKGVvNH",
        "outputId": "58187603-3b20-4153-dd1b-24e360f6b222",
        "colab": {
          "base_uri": "https://localhost:8080/"
        }
      },
      "outputs": [
        {
          "output_type": "stream",
          "name": "stdout",
          "text": [
            "Epoch 1/200\n",
            "1/1 - 4s - loss: 1.9529 - acc: 0.1429 - val_loss: 1.9157 - val_acc: 0.3220 - 4s/epoch - 4s/step\n",
            "Epoch 2/200\n",
            "1/1 - 0s - loss: 1.9099 - acc: 0.3357 - val_loss: 1.8763 - val_acc: 0.3920 - 93ms/epoch - 93ms/step\n",
            "Epoch 3/200\n",
            "1/1 - 0s - loss: 1.8483 - acc: 0.4357 - val_loss: 1.8251 - val_acc: 0.4040 - 195ms/epoch - 195ms/step\n",
            "Epoch 4/200\n",
            "1/1 - 0s - loss: 1.7819 - acc: 0.5000 - val_loss: 1.7598 - val_acc: 0.4340 - 85ms/epoch - 85ms/step\n",
            "Epoch 5/200\n",
            "1/1 - 0s - loss: 1.6979 - acc: 0.5000 - val_loss: 1.6840 - val_acc: 0.4780 - 130ms/epoch - 130ms/step\n",
            "Epoch 6/200\n",
            "1/1 - 0s - loss: 1.6108 - acc: 0.5500 - val_loss: 1.6002 - val_acc: 0.5040 - 111ms/epoch - 111ms/step\n",
            "Epoch 7/200\n",
            "1/1 - 0s - loss: 1.5044 - acc: 0.5786 - val_loss: 1.5143 - val_acc: 0.5100 - 154ms/epoch - 154ms/step\n",
            "Epoch 8/200\n",
            "1/1 - 0s - loss: 1.4022 - acc: 0.5500 - val_loss: 1.4301 - val_acc: 0.5260 - 97ms/epoch - 97ms/step\n",
            "Epoch 9/200\n",
            "1/1 - 0s - loss: 1.2554 - acc: 0.6143 - val_loss: 1.3502 - val_acc: 0.5340 - 118ms/epoch - 118ms/step\n",
            "Epoch 10/200\n",
            "1/1 - 0s - loss: 1.1960 - acc: 0.5929 - val_loss: 1.2757 - val_acc: 0.5580 - 130ms/epoch - 130ms/step\n",
            "Epoch 11/200\n",
            "1/1 - 0s - loss: 1.1060 - acc: 0.6214 - val_loss: 1.2060 - val_acc: 0.6000 - 80ms/epoch - 80ms/step\n",
            "Epoch 12/200\n",
            "1/1 - 0s - loss: 1.0109 - acc: 0.6714 - val_loss: 1.1414 - val_acc: 0.6320 - 138ms/epoch - 138ms/step\n",
            "Epoch 13/200\n",
            "1/1 - 0s - loss: 0.9216 - acc: 0.6643 - val_loss: 1.0785 - val_acc: 0.6580 - 114ms/epoch - 114ms/step\n",
            "Epoch 14/200\n",
            "1/1 - 0s - loss: 0.8168 - acc: 0.7571 - val_loss: 1.0167 - val_acc: 0.6820 - 104ms/epoch - 104ms/step\n",
            "Epoch 15/200\n",
            "1/1 - 0s - loss: 0.7748 - acc: 0.7571 - val_loss: 0.9636 - val_acc: 0.7000 - 150ms/epoch - 150ms/step\n",
            "Epoch 16/200\n",
            "1/1 - 0s - loss: 0.6819 - acc: 0.7857 - val_loss: 0.9185 - val_acc: 0.7300 - 133ms/epoch - 133ms/step\n",
            "Epoch 17/200\n",
            "1/1 - 0s - loss: 0.5847 - acc: 0.8071 - val_loss: 0.8841 - val_acc: 0.7460 - 90ms/epoch - 90ms/step\n",
            "Epoch 18/200\n",
            "1/1 - 0s - loss: 0.5495 - acc: 0.8500 - val_loss: 0.8607 - val_acc: 0.7540 - 109ms/epoch - 109ms/step\n",
            "Epoch 19/200\n",
            "1/1 - 0s - loss: 0.5507 - acc: 0.8357 - val_loss: 0.8476 - val_acc: 0.7460 - 104ms/epoch - 104ms/step\n",
            "Epoch 20/200\n",
            "1/1 - 0s - loss: 0.4516 - acc: 0.8714 - val_loss: 0.8415 - val_acc: 0.7500 - 115ms/epoch - 115ms/step\n",
            "Epoch 21/200\n",
            "1/1 - 0s - loss: 0.4493 - acc: 0.8786 - val_loss: 0.8291 - val_acc: 0.7560 - 122ms/epoch - 122ms/step\n",
            "Epoch 22/200\n",
            "1/1 - 0s - loss: 0.2996 - acc: 0.9286 - val_loss: 0.8196 - val_acc: 0.7620 - 165ms/epoch - 165ms/step\n",
            "Epoch 23/200\n",
            "1/1 - 0s - loss: 0.3314 - acc: 0.9143 - val_loss: 0.8105 - val_acc: 0.7740 - 101ms/epoch - 101ms/step\n",
            "Epoch 24/200\n",
            "1/1 - 0s - loss: 0.3369 - acc: 0.9071 - val_loss: 0.7999 - val_acc: 0.7820 - 124ms/epoch - 124ms/step\n",
            "Epoch 25/200\n",
            "1/1 - 0s - loss: 0.2382 - acc: 0.9643 - val_loss: 0.7903 - val_acc: 0.7820 - 129ms/epoch - 129ms/step\n",
            "Epoch 26/200\n",
            "1/1 - 0s - loss: 0.2657 - acc: 0.9429 - val_loss: 0.7837 - val_acc: 0.7840 - 109ms/epoch - 109ms/step\n",
            "Epoch 27/200\n",
            "1/1 - 0s - loss: 0.2293 - acc: 0.9357 - val_loss: 0.7747 - val_acc: 0.7920 - 177ms/epoch - 177ms/step\n",
            "Epoch 28/200\n",
            "1/1 - 0s - loss: 0.2237 - acc: 0.9357 - val_loss: 0.7745 - val_acc: 0.7940 - 120ms/epoch - 120ms/step\n",
            "Epoch 29/200\n",
            "1/1 - 0s - loss: 0.1850 - acc: 0.9500 - val_loss: 0.7736 - val_acc: 0.7900 - 105ms/epoch - 105ms/step\n",
            "Epoch 30/200\n",
            "1/1 - 0s - loss: 0.1330 - acc: 0.9786 - val_loss: 0.7739 - val_acc: 0.7900 - 89ms/epoch - 89ms/step\n",
            "Epoch 31/200\n",
            "1/1 - 0s - loss: 0.1649 - acc: 0.9571 - val_loss: 0.7773 - val_acc: 0.7900 - 134ms/epoch - 134ms/step\n",
            "Epoch 32/200\n",
            "1/1 - 0s - loss: 0.1654 - acc: 0.9357 - val_loss: 0.7808 - val_acc: 0.7920 - 128ms/epoch - 128ms/step\n",
            "Epoch 33/200\n",
            "1/1 - 0s - loss: 0.1498 - acc: 0.9571 - val_loss: 0.7901 - val_acc: 0.7860 - 89ms/epoch - 89ms/step\n",
            "Epoch 34/200\n",
            "1/1 - 0s - loss: 0.1507 - acc: 0.9643 - val_loss: 0.7998 - val_acc: 0.7880 - 93ms/epoch - 93ms/step\n",
            "Epoch 35/200\n",
            "1/1 - 0s - loss: 0.1398 - acc: 0.9643 - val_loss: 0.8036 - val_acc: 0.7880 - 113ms/epoch - 113ms/step\n",
            "Epoch 36/200\n",
            "1/1 - 0s - loss: 0.1258 - acc: 0.9643 - val_loss: 0.8052 - val_acc: 0.7940 - 144ms/epoch - 144ms/step\n",
            "Epoch 37/200\n",
            "1/1 - 0s - loss: 0.1487 - acc: 0.9714 - val_loss: 0.8121 - val_acc: 0.7880 - 91ms/epoch - 91ms/step\n",
            "Epoch 38/200\n",
            "1/1 - 0s - loss: 0.0887 - acc: 0.9857 - val_loss: 0.8191 - val_acc: 0.7880 - 100ms/epoch - 100ms/step\n",
            "Epoch 39/200\n",
            "1/1 - 0s - loss: 0.0677 - acc: 0.9857 - val_loss: 0.8309 - val_acc: 0.7900 - 82ms/epoch - 82ms/step\n",
            "Epoch 40/200\n",
            "1/1 - 0s - loss: 0.1114 - acc: 0.9571 - val_loss: 0.8449 - val_acc: 0.7840 - 90ms/epoch - 90ms/step\n",
            "Epoch 41/200\n",
            "1/1 - 0s - loss: 0.1244 - acc: 0.9500 - val_loss: 0.8635 - val_acc: 0.7820 - 148ms/epoch - 148ms/step\n",
            "Epoch 42/200\n",
            "1/1 - 0s - loss: 0.0612 - acc: 0.9929 - val_loss: 0.8784 - val_acc: 0.7780 - 91ms/epoch - 91ms/step\n",
            "Epoch 43/200\n",
            "1/1 - 0s - loss: 0.1098 - acc: 0.9643 - val_loss: 0.8931 - val_acc: 0.7780 - 104ms/epoch - 104ms/step\n",
            "Epoch 44/200\n",
            "1/1 - 0s - loss: 0.1223 - acc: 0.9500 - val_loss: 0.9078 - val_acc: 0.7820 - 126ms/epoch - 126ms/step\n",
            "Epoch 45/200\n",
            "1/1 - 0s - loss: 0.1153 - acc: 0.9571 - val_loss: 0.9158 - val_acc: 0.7820 - 134ms/epoch - 134ms/step\n",
            "Epoch 46/200\n",
            "1/1 - 0s - loss: 0.0754 - acc: 0.9786 - val_loss: 0.9216 - val_acc: 0.7860 - 90ms/epoch - 90ms/step\n",
            "Epoch 47/200\n",
            "1/1 - 0s - loss: 0.0786 - acc: 0.9857 - val_loss: 0.9220 - val_acc: 0.7920 - 106ms/epoch - 106ms/step\n",
            "Epoch 48/200\n",
            "1/1 - 0s - loss: 0.0918 - acc: 0.9714 - val_loss: 0.9250 - val_acc: 0.7880 - 82ms/epoch - 82ms/step\n",
            "Epoch 49/200\n",
            "1/1 - 0s - loss: 0.0422 - acc: 0.9929 - val_loss: 0.9305 - val_acc: 0.7860 - 130ms/epoch - 130ms/step\n",
            "Epoch 50/200\n",
            "1/1 - 0s - loss: 0.0460 - acc: 0.9929 - val_loss: 0.9364 - val_acc: 0.7920 - 122ms/epoch - 122ms/step\n",
            "Epoch 51/200\n",
            "1/1 - 0s - loss: 0.0564 - acc: 0.9857 - val_loss: 0.9424 - val_acc: 0.7940 - 109ms/epoch - 109ms/step\n",
            "Epoch 52/200\n",
            "1/1 - 0s - loss: 0.0463 - acc: 0.9857 - val_loss: 0.9506 - val_acc: 0.7960 - 105ms/epoch - 105ms/step\n",
            "Epoch 53/200\n",
            "1/1 - 0s - loss: 0.0573 - acc: 0.9786 - val_loss: 0.9600 - val_acc: 0.7900 - 101ms/epoch - 101ms/step\n",
            "Epoch 54/200\n",
            "1/1 - 0s - loss: 0.0603 - acc: 0.9929 - val_loss: 0.9692 - val_acc: 0.7880 - 122ms/epoch - 122ms/step\n",
            "Epoch 55/200\n",
            "1/1 - 0s - loss: 0.1004 - acc: 0.9643 - val_loss: 0.9709 - val_acc: 0.7840 - 194ms/epoch - 194ms/step\n",
            "Epoch 56/200\n",
            "1/1 - 0s - loss: 0.0312 - acc: 1.0000 - val_loss: 0.9750 - val_acc: 0.7820 - 104ms/epoch - 104ms/step\n",
            "Epoch 57/200\n",
            "1/1 - 0s - loss: 0.0638 - acc: 0.9786 - val_loss: 0.9798 - val_acc: 0.7820 - 88ms/epoch - 88ms/step\n",
            "Epoch 58/200\n",
            "1/1 - 0s - loss: 0.0447 - acc: 1.0000 - val_loss: 0.9830 - val_acc: 0.7860 - 99ms/epoch - 99ms/step\n",
            "Epoch 59/200\n",
            "1/1 - 0s - loss: 0.0451 - acc: 0.9857 - val_loss: 0.9838 - val_acc: 0.7840 - 89ms/epoch - 89ms/step\n",
            "Epoch 60/200\n",
            "1/1 - 0s - loss: 0.0347 - acc: 0.9929 - val_loss: 0.9848 - val_acc: 0.7880 - 116ms/epoch - 116ms/step\n",
            "Epoch 61/200\n",
            "1/1 - 0s - loss: 0.0273 - acc: 0.9929 - val_loss: 0.9859 - val_acc: 0.7860 - 108ms/epoch - 108ms/step\n",
            "Epoch 62/200\n",
            "1/1 - 0s - loss: 0.0407 - acc: 0.9857 - val_loss: 0.9880 - val_acc: 0.7860 - 118ms/epoch - 118ms/step\n",
            "Epoch 63/200\n",
            "1/1 - 0s - loss: 0.0267 - acc: 0.9857 - val_loss: 0.9954 - val_acc: 0.7820 - 80ms/epoch - 80ms/step\n",
            "Epoch 64/200\n",
            "1/1 - 0s - loss: 0.0472 - acc: 0.9929 - val_loss: 1.0043 - val_acc: 0.7820 - 122ms/epoch - 122ms/step\n",
            "Epoch 65/200\n",
            "1/1 - 0s - loss: 0.0723 - acc: 0.9643 - val_loss: 1.0124 - val_acc: 0.7820 - 89ms/epoch - 89ms/step\n",
            "Epoch 66/200\n",
            "1/1 - 0s - loss: 0.0645 - acc: 0.9786 - val_loss: 1.0206 - val_acc: 0.7820 - 103ms/epoch - 103ms/step\n",
            "Epoch 67/200\n",
            "1/1 - 0s - loss: 0.0189 - acc: 1.0000 - val_loss: 1.0297 - val_acc: 0.7760 - 123ms/epoch - 123ms/step\n",
            "Epoch 68/200\n",
            "1/1 - 0s - loss: 0.0376 - acc: 0.9857 - val_loss: 1.0393 - val_acc: 0.7760 - 123ms/epoch - 123ms/step\n",
            "Epoch 69/200\n",
            "1/1 - 0s - loss: 0.0333 - acc: 0.9929 - val_loss: 1.0518 - val_acc: 0.7740 - 84ms/epoch - 84ms/step\n",
            "Epoch 70/200\n",
            "1/1 - 0s - loss: 0.0303 - acc: 0.9929 - val_loss: 1.0626 - val_acc: 0.7780 - 102ms/epoch - 102ms/step\n",
            "Epoch 71/200\n",
            "1/1 - 0s - loss: 0.0344 - acc: 0.9857 - val_loss: 1.0692 - val_acc: 0.7780 - 84ms/epoch - 84ms/step\n",
            "Epoch 72/200\n",
            "1/1 - 0s - loss: 0.0143 - acc: 1.0000 - val_loss: 1.0750 - val_acc: 0.7760 - 88ms/epoch - 88ms/step\n",
            "Epoch 73/200\n",
            "1/1 - 0s - loss: 0.0377 - acc: 0.9857 - val_loss: 1.0770 - val_acc: 0.7780 - 89ms/epoch - 89ms/step\n",
            "Epoch 74/200\n",
            "1/1 - 0s - loss: 0.0270 - acc: 1.0000 - val_loss: 1.0791 - val_acc: 0.7780 - 148ms/epoch - 148ms/step\n",
            "Epoch 75/200\n",
            "1/1 - 0s - loss: 0.0455 - acc: 0.9786 - val_loss: 1.0782 - val_acc: 0.7740 - 102ms/epoch - 102ms/step\n",
            "Epoch 76/200\n",
            "1/1 - 0s - loss: 0.0361 - acc: 0.9929 - val_loss: 1.0732 - val_acc: 0.7800 - 86ms/epoch - 86ms/step\n",
            "Epoch 77/200\n",
            "1/1 - 0s - loss: 0.0314 - acc: 0.9857 - val_loss: 1.0685 - val_acc: 0.7800 - 99ms/epoch - 99ms/step\n",
            "Epoch 78/200\n",
            "1/1 - 0s - loss: 0.0221 - acc: 1.0000 - val_loss: 1.0608 - val_acc: 0.7880 - 90ms/epoch - 90ms/step\n",
            "Epoch 79/200\n",
            "1/1 - 0s - loss: 0.0234 - acc: 0.9929 - val_loss: 1.0512 - val_acc: 0.7860 - 110ms/epoch - 110ms/step\n",
            "Epoch 80/200\n",
            "1/1 - 0s - loss: 0.0140 - acc: 1.0000 - val_loss: 1.0449 - val_acc: 0.7900 - 127ms/epoch - 127ms/step\n",
            "Epoch 81/200\n",
            "1/1 - 0s - loss: 0.0343 - acc: 0.9929 - val_loss: 1.0375 - val_acc: 0.7920 - 113ms/epoch - 113ms/step\n",
            "Epoch 82/200\n",
            "1/1 - 0s - loss: 0.0641 - acc: 0.9786 - val_loss: 1.0303 - val_acc: 0.7920 - 104ms/epoch - 104ms/step\n",
            "Epoch 83/200\n",
            "1/1 - 0s - loss: 0.0349 - acc: 0.9857 - val_loss: 1.0243 - val_acc: 0.7960 - 173ms/epoch - 173ms/step\n",
            "Epoch 84/200\n",
            "1/1 - 0s - loss: 0.0490 - acc: 0.9929 - val_loss: 1.0218 - val_acc: 0.7940 - 140ms/epoch - 140ms/step\n",
            "Epoch 85/200\n",
            "1/1 - 0s - loss: 0.0536 - acc: 0.9714 - val_loss: 1.0215 - val_acc: 0.7960 - 203ms/epoch - 203ms/step\n",
            "Epoch 86/200\n",
            "1/1 - 0s - loss: 0.0281 - acc: 0.9929 - val_loss: 1.0232 - val_acc: 0.7920 - 103ms/epoch - 103ms/step\n",
            "Epoch 87/200\n",
            "1/1 - 0s - loss: 0.0483 - acc: 0.9714 - val_loss: 1.0242 - val_acc: 0.7920 - 122ms/epoch - 122ms/step\n",
            "Epoch 88/200\n",
            "1/1 - 0s - loss: 0.0330 - acc: 1.0000 - val_loss: 1.0285 - val_acc: 0.7940 - 108ms/epoch - 108ms/step\n",
            "Epoch 89/200\n",
            "1/1 - 0s - loss: 0.0362 - acc: 1.0000 - val_loss: 1.0353 - val_acc: 0.7940 - 129ms/epoch - 129ms/step\n",
            "Epoch 90/200\n",
            "1/1 - 0s - loss: 0.0147 - acc: 1.0000 - val_loss: 1.0435 - val_acc: 0.8020 - 168ms/epoch - 168ms/step\n",
            "Epoch 91/200\n",
            "1/1 - 0s - loss: 0.0188 - acc: 1.0000 - val_loss: 1.0517 - val_acc: 0.8020 - 148ms/epoch - 148ms/step\n",
            "Epoch 92/200\n",
            "1/1 - 0s - loss: 0.0207 - acc: 1.0000 - val_loss: 1.0591 - val_acc: 0.8000 - 155ms/epoch - 155ms/step\n",
            "Epoch 93/200\n",
            "1/1 - 0s - loss: 0.0243 - acc: 0.9929 - val_loss: 1.0681 - val_acc: 0.7900 - 204ms/epoch - 204ms/step\n",
            "Epoch 94/200\n",
            "1/1 - 0s - loss: 0.0334 - acc: 0.9857 - val_loss: 1.0784 - val_acc: 0.7880 - 209ms/epoch - 209ms/step\n",
            "Epoch 95/200\n",
            "1/1 - 0s - loss: 0.0133 - acc: 0.9929 - val_loss: 1.0895 - val_acc: 0.7840 - 181ms/epoch - 181ms/step\n",
            "Epoch 96/200\n",
            "1/1 - 0s - loss: 0.0106 - acc: 0.9929 - val_loss: 1.1026 - val_acc: 0.7820 - 126ms/epoch - 126ms/step\n",
            "Epoch 97/200\n",
            "1/1 - 0s - loss: 0.0253 - acc: 0.9929 - val_loss: 1.1159 - val_acc: 0.7840 - 113ms/epoch - 113ms/step\n",
            "Epoch 98/200\n",
            "1/1 - 0s - loss: 0.0205 - acc: 0.9929 - val_loss: 1.1244 - val_acc: 0.7840 - 86ms/epoch - 86ms/step\n",
            "Epoch 99/200\n",
            "1/1 - 0s - loss: 0.0092 - acc: 1.0000 - val_loss: 1.1332 - val_acc: 0.7800 - 144ms/epoch - 144ms/step\n",
            "Epoch 100/200\n",
            "1/1 - 0s - loss: 0.0223 - acc: 0.9929 - val_loss: 1.1450 - val_acc: 0.7800 - 165ms/epoch - 165ms/step\n",
            "Epoch 101/200\n",
            "1/1 - 0s - loss: 0.0103 - acc: 1.0000 - val_loss: 1.1581 - val_acc: 0.7700 - 87ms/epoch - 87ms/step\n",
            "Epoch 102/200\n",
            "1/1 - 0s - loss: 0.0087 - acc: 1.0000 - val_loss: 1.1682 - val_acc: 0.7700 - 106ms/epoch - 106ms/step\n",
            "Epoch 103/200\n",
            "1/1 - 0s - loss: 0.0155 - acc: 1.0000 - val_loss: 1.1736 - val_acc: 0.7700 - 136ms/epoch - 136ms/step\n",
            "Epoch 104/200\n",
            "1/1 - 0s - loss: 0.0386 - acc: 0.9857 - val_loss: 1.1737 - val_acc: 0.7700 - 121ms/epoch - 121ms/step\n",
            "Epoch 105/200\n",
            "1/1 - 0s - loss: 0.0318 - acc: 0.9929 - val_loss: 1.1747 - val_acc: 0.7700 - 89ms/epoch - 89ms/step\n",
            "Epoch 106/200\n",
            "1/1 - 0s - loss: 0.0193 - acc: 1.0000 - val_loss: 1.1687 - val_acc: 0.7720 - 125ms/epoch - 125ms/step\n",
            "Epoch 107/200\n",
            "1/1 - 0s - loss: 0.0169 - acc: 0.9929 - val_loss: 1.1610 - val_acc: 0.7780 - 97ms/epoch - 97ms/step\n",
            "Epoch 108/200\n",
            "1/1 - 0s - loss: 0.0180 - acc: 0.9929 - val_loss: 1.1542 - val_acc: 0.7780 - 170ms/epoch - 170ms/step\n",
            "Epoch 109/200\n",
            "1/1 - 0s - loss: 0.0142 - acc: 1.0000 - val_loss: 1.1525 - val_acc: 0.7860 - 104ms/epoch - 104ms/step\n",
            "Epoch 110/200\n",
            "1/1 - 0s - loss: 0.0095 - acc: 1.0000 - val_loss: 1.1526 - val_acc: 0.7900 - 101ms/epoch - 101ms/step\n",
            "Epoch 111/200\n",
            "1/1 - 0s - loss: 0.0186 - acc: 0.9929 - val_loss: 1.1526 - val_acc: 0.7860 - 85ms/epoch - 85ms/step\n",
            "Epoch 112/200\n",
            "1/1 - 0s - loss: 0.0210 - acc: 0.9929 - val_loss: 1.1560 - val_acc: 0.7820 - 104ms/epoch - 104ms/step\n",
            "Epoch 113/200\n",
            "1/1 - 0s - loss: 0.0057 - acc: 1.0000 - val_loss: 1.1608 - val_acc: 0.7840 - 86ms/epoch - 86ms/step\n",
            "Epoch 114/200\n",
            "1/1 - 0s - loss: 0.0138 - acc: 1.0000 - val_loss: 1.1647 - val_acc: 0.7840 - 88ms/epoch - 88ms/step\n",
            "Epoch 115/200\n",
            "1/1 - 0s - loss: 0.0162 - acc: 1.0000 - val_loss: 1.1667 - val_acc: 0.7820 - 113ms/epoch - 113ms/step\n",
            "Epoch 116/200\n",
            "1/1 - 0s - loss: 0.0225 - acc: 0.9857 - val_loss: 1.1676 - val_acc: 0.7840 - 156ms/epoch - 156ms/step\n",
            "Epoch 117/200\n",
            "1/1 - 0s - loss: 0.0351 - acc: 0.9857 - val_loss: 1.1686 - val_acc: 0.7840 - 59ms/epoch - 59ms/step\n",
            "Epoch 118/200\n",
            "1/1 - 0s - loss: 0.0186 - acc: 1.0000 - val_loss: 1.1660 - val_acc: 0.7840 - 60ms/epoch - 60ms/step\n",
            "Epoch 119/200\n",
            "1/1 - 0s - loss: 0.0315 - acc: 0.9929 - val_loss: 1.1573 - val_acc: 0.7900 - 61ms/epoch - 61ms/step\n",
            "Epoch 120/200\n",
            "1/1 - 0s - loss: 0.0221 - acc: 0.9929 - val_loss: 1.1488 - val_acc: 0.7940 - 65ms/epoch - 65ms/step\n",
            "Epoch 121/200\n",
            "1/1 - 0s - loss: 0.0190 - acc: 0.9929 - val_loss: 1.1417 - val_acc: 0.7980 - 61ms/epoch - 61ms/step\n",
            "Epoch 122/200\n",
            "1/1 - 0s - loss: 0.0214 - acc: 0.9929 - val_loss: 1.1373 - val_acc: 0.7980 - 58ms/epoch - 58ms/step\n",
            "Epoch 123/200\n",
            "1/1 - 0s - loss: 0.0162 - acc: 1.0000 - val_loss: 1.1344 - val_acc: 0.8020 - 62ms/epoch - 62ms/step\n",
            "Epoch 124/200\n",
            "1/1 - 0s - loss: 0.0204 - acc: 0.9929 - val_loss: 1.1311 - val_acc: 0.8080 - 58ms/epoch - 58ms/step\n",
            "Epoch 125/200\n",
            "1/1 - 0s - loss: 0.0086 - acc: 1.0000 - val_loss: 1.1296 - val_acc: 0.8120 - 59ms/epoch - 59ms/step\n",
            "Epoch 126/200\n",
            "1/1 - 0s - loss: 0.0069 - acc: 1.0000 - val_loss: 1.1286 - val_acc: 0.8080 - 59ms/epoch - 59ms/step\n",
            "Epoch 127/200\n",
            "1/1 - 0s - loss: 0.0102 - acc: 1.0000 - val_loss: 1.1286 - val_acc: 0.8040 - 59ms/epoch - 59ms/step\n",
            "Epoch 128/200\n",
            "1/1 - 0s - loss: 0.0253 - acc: 0.9929 - val_loss: 1.1334 - val_acc: 0.8040 - 59ms/epoch - 59ms/step\n",
            "Epoch 129/200\n",
            "1/1 - 0s - loss: 0.0094 - acc: 0.9929 - val_loss: 1.1391 - val_acc: 0.7980 - 57ms/epoch - 57ms/step\n",
            "Epoch 130/200\n",
            "1/1 - 0s - loss: 0.0186 - acc: 1.0000 - val_loss: 1.1447 - val_acc: 0.7980 - 60ms/epoch - 60ms/step\n",
            "Epoch 131/200\n",
            "1/1 - 0s - loss: 0.0438 - acc: 0.9857 - val_loss: 1.1491 - val_acc: 0.7940 - 60ms/epoch - 60ms/step\n",
            "Epoch 132/200\n",
            "1/1 - 0s - loss: 0.0168 - acc: 0.9929 - val_loss: 1.1483 - val_acc: 0.7980 - 66ms/epoch - 66ms/step\n",
            "Epoch 133/200\n",
            "1/1 - 0s - loss: 0.0061 - acc: 1.0000 - val_loss: 1.1487 - val_acc: 0.7960 - 64ms/epoch - 64ms/step\n",
            "Epoch 134/200\n",
            "1/1 - 0s - loss: 0.0088 - acc: 1.0000 - val_loss: 1.1500 - val_acc: 0.7980 - 59ms/epoch - 59ms/step\n",
            "Epoch 135/200\n",
            "1/1 - 0s - loss: 0.0205 - acc: 1.0000 - val_loss: 1.1533 - val_acc: 0.7960 - 59ms/epoch - 59ms/step\n",
            "Epoch 136/200\n",
            "1/1 - 0s - loss: 0.0275 - acc: 0.9929 - val_loss: 1.1554 - val_acc: 0.7980 - 61ms/epoch - 61ms/step\n",
            "Epoch 137/200\n",
            "1/1 - 0s - loss: 0.0178 - acc: 0.9929 - val_loss: 1.1563 - val_acc: 0.7980 - 62ms/epoch - 62ms/step\n",
            "Epoch 138/200\n",
            "1/1 - 0s - loss: 0.0226 - acc: 0.9929 - val_loss: 1.1527 - val_acc: 0.8000 - 66ms/epoch - 66ms/step\n",
            "Epoch 139/200\n",
            "1/1 - 0s - loss: 0.0126 - acc: 1.0000 - val_loss: 1.1497 - val_acc: 0.7980 - 64ms/epoch - 64ms/step\n",
            "Epoch 140/200\n",
            "1/1 - 0s - loss: 0.0281 - acc: 0.9929 - val_loss: 1.1481 - val_acc: 0.7980 - 62ms/epoch - 62ms/step\n",
            "Epoch 141/200\n",
            "1/1 - 0s - loss: 0.0068 - acc: 1.0000 - val_loss: 1.1487 - val_acc: 0.8000 - 60ms/epoch - 60ms/step\n",
            "Epoch 142/200\n",
            "1/1 - 0s - loss: 0.0057 - acc: 1.0000 - val_loss: 1.1526 - val_acc: 0.8000 - 60ms/epoch - 60ms/step\n",
            "Epoch 143/200\n",
            "1/1 - 0s - loss: 0.0089 - acc: 1.0000 - val_loss: 1.1582 - val_acc: 0.8000 - 60ms/epoch - 60ms/step\n",
            "Epoch 144/200\n",
            "1/1 - 0s - loss: 0.0077 - acc: 1.0000 - val_loss: 1.1646 - val_acc: 0.7940 - 56ms/epoch - 56ms/step\n",
            "Epoch 145/200\n",
            "1/1 - 0s - loss: 0.0157 - acc: 0.9929 - val_loss: 1.1690 - val_acc: 0.7940 - 61ms/epoch - 61ms/step\n",
            "Epoch 146/200\n",
            "1/1 - 0s - loss: 0.0291 - acc: 0.9857 - val_loss: 1.1784 - val_acc: 0.7900 - 63ms/epoch - 63ms/step\n",
            "Epoch 147/200\n",
            "1/1 - 0s - loss: 0.0089 - acc: 1.0000 - val_loss: 1.1904 - val_acc: 0.7820 - 67ms/epoch - 67ms/step\n",
            "Epoch 148/200\n",
            "1/1 - 0s - loss: 0.0113 - acc: 1.0000 - val_loss: 1.2022 - val_acc: 0.7860 - 62ms/epoch - 62ms/step\n",
            "Epoch 149/200\n",
            "1/1 - 0s - loss: 0.0060 - acc: 1.0000 - val_loss: 1.2154 - val_acc: 0.7840 - 58ms/epoch - 58ms/step\n",
            "Epoch 150/200\n",
            "1/1 - 0s - loss: 0.0109 - acc: 1.0000 - val_loss: 1.2289 - val_acc: 0.7780 - 61ms/epoch - 61ms/step\n",
            "Epoch 151/200\n",
            "1/1 - 0s - loss: 0.0364 - acc: 0.9929 - val_loss: 1.2418 - val_acc: 0.7760 - 62ms/epoch - 62ms/step\n",
            "Epoch 152/200\n",
            "1/1 - 0s - loss: 0.0070 - acc: 1.0000 - val_loss: 1.2542 - val_acc: 0.7760 - 61ms/epoch - 61ms/step\n",
            "Epoch 153/200\n",
            "1/1 - 0s - loss: 0.0111 - acc: 0.9929 - val_loss: 1.2649 - val_acc: 0.7760 - 58ms/epoch - 58ms/step\n",
            "Epoch 154/200\n",
            "1/1 - 0s - loss: 0.0130 - acc: 1.0000 - val_loss: 1.2708 - val_acc: 0.7760 - 57ms/epoch - 57ms/step\n",
            "Epoch 155/200\n",
            "1/1 - 0s - loss: 0.0164 - acc: 1.0000 - val_loss: 1.2744 - val_acc: 0.7780 - 62ms/epoch - 62ms/step\n",
            "Epoch 156/200\n",
            "1/1 - 0s - loss: 0.0326 - acc: 0.9857 - val_loss: 1.2810 - val_acc: 0.7720 - 57ms/epoch - 57ms/step\n",
            "Epoch 157/200\n",
            "1/1 - 0s - loss: 0.0041 - acc: 1.0000 - val_loss: 1.2867 - val_acc: 0.7720 - 58ms/epoch - 58ms/step\n",
            "Epoch 158/200\n",
            "1/1 - 0s - loss: 0.0137 - acc: 0.9929 - val_loss: 1.2891 - val_acc: 0.7720 - 60ms/epoch - 60ms/step\n",
            "Epoch 159/200\n",
            "1/1 - 0s - loss: 0.0242 - acc: 0.9929 - val_loss: 1.2775 - val_acc: 0.7820 - 63ms/epoch - 63ms/step\n",
            "Epoch 160/200\n",
            "1/1 - 0s - loss: 0.0103 - acc: 1.0000 - val_loss: 1.2657 - val_acc: 0.7820 - 63ms/epoch - 63ms/step\n",
            "Epoch 161/200\n",
            "1/1 - 0s - loss: 0.0070 - acc: 1.0000 - val_loss: 1.2556 - val_acc: 0.7900 - 65ms/epoch - 65ms/step\n",
            "Epoch 162/200\n",
            "1/1 - 0s - loss: 0.0368 - acc: 0.9857 - val_loss: 1.2304 - val_acc: 0.7980 - 62ms/epoch - 62ms/step\n",
            "Epoch 163/200\n",
            "1/1 - 0s - loss: 0.0184 - acc: 1.0000 - val_loss: 1.2121 - val_acc: 0.8020 - 61ms/epoch - 61ms/step\n",
            "Epoch 164/200\n",
            "1/1 - 0s - loss: 0.0054 - acc: 1.0000 - val_loss: 1.2001 - val_acc: 0.8020 - 56ms/epoch - 56ms/step\n",
            "Epoch 165/200\n",
            "1/1 - 0s - loss: 0.0019 - acc: 1.0000 - val_loss: 1.1934 - val_acc: 0.8040 - 58ms/epoch - 58ms/step\n",
            "Epoch 166/200\n",
            "1/1 - 0s - loss: 0.0164 - acc: 0.9929 - val_loss: 1.1899 - val_acc: 0.7960 - 64ms/epoch - 64ms/step\n",
            "Epoch 167/200\n",
            "1/1 - 0s - loss: 0.0206 - acc: 0.9929 - val_loss: 1.1901 - val_acc: 0.7940 - 61ms/epoch - 61ms/step\n",
            "Epoch 168/200\n",
            "1/1 - 0s - loss: 0.0288 - acc: 0.9857 - val_loss: 1.1888 - val_acc: 0.7940 - 57ms/epoch - 57ms/step\n",
            "Epoch 169/200\n",
            "1/1 - 0s - loss: 0.0044 - acc: 1.0000 - val_loss: 1.1882 - val_acc: 0.7940 - 66ms/epoch - 66ms/step\n",
            "Epoch 170/200\n",
            "1/1 - 0s - loss: 0.0409 - acc: 0.9714 - val_loss: 1.1860 - val_acc: 0.7920 - 58ms/epoch - 58ms/step\n",
            "Epoch 171/200\n",
            "1/1 - 0s - loss: 0.0132 - acc: 1.0000 - val_loss: 1.1841 - val_acc: 0.7940 - 57ms/epoch - 57ms/step\n",
            "Epoch 172/200\n",
            "1/1 - 0s - loss: 0.0142 - acc: 1.0000 - val_loss: 1.1850 - val_acc: 0.7940 - 61ms/epoch - 61ms/step\n",
            "Epoch 173/200\n",
            "1/1 - 0s - loss: 0.0206 - acc: 1.0000 - val_loss: 1.1882 - val_acc: 0.7940 - 66ms/epoch - 66ms/step\n",
            "Epoch 174/200\n",
            "1/1 - 0s - loss: 0.0044 - acc: 1.0000 - val_loss: 1.1915 - val_acc: 0.7920 - 63ms/epoch - 63ms/step\n",
            "Epoch 175/200\n",
            "1/1 - 0s - loss: 0.0090 - acc: 1.0000 - val_loss: 1.1948 - val_acc: 0.7940 - 63ms/epoch - 63ms/step\n"
          ]
        }
      ],
      "source": [
        "history = model.fit(\n",
        "    train_gen,\n",
        "    epochs=200,\n",
        "    validation_data=val_gen,\n",
        "    verbose=2,\n",
        "    shuffle=False,  # this should be False, since shuffling data means shuffling the whole graph\n",
        "    callbacks=[es_callback],\n",
        ")"
      ]
    },
    {
      "cell_type": "markdown",
      "metadata": {
        "id": "hIW3fCaDVvNH"
      },
      "source": [
        "## Graph Plotting\n",
        "To view the behaviour loss function and any other metrics. In this case, we can see the loss and accuracy on both the training and validation sets."
      ]
    },
    {
      "cell_type": "code",
      "execution_count": 19,
      "metadata": {
        "id": "tToqY9IgVvNH",
        "outputId": "8eba90e4-d28a-4db0-edf5-f6e31d6d628c",
        "colab": {
          "base_uri": "https://localhost:8080/",
          "height": 585
        }
      },
      "outputs": [
        {
          "output_type": "display_data",
          "data": {
            "text/plain": [
              "<Figure size 504x576 with 2 Axes>"
            ],
            "image/png": "[encoded data removed]"
          },
          "metadata": {
            "needs_background": "light"
          }
        }
      ],
      "source": [
        "sg.utils.plot_history(history)"
      ]
    },
    {
      "cell_type": "markdown",
      "metadata": {
        "id": "Z8bB5b3KVvNJ"
      },
      "source": [
        "As the final part of our evaluation, let's check the model against the test set. We again create the data required for this using the `flow` method on our `FullBatchNodeGenerator` from above, and can use the model's `evaluate` method to compute the metric values for the trained model.\n",
        "\n",
        "As expected, the model performs similarly on the validation set during training and on the test set here."
      ]
    },
    {
      "cell_type": "code",
      "execution_count": 20,
      "metadata": {
        "id": "029NXdnkVvNJ"
      },
      "outputs": [],
      "source": [
        "test_gen = generator.flow(test_subjects.index, test_targets)"
      ]
    },
    {
      "cell_type": "code",
      "execution_count": 21,
      "metadata": {
        "id": "cfyBhDdAVvNJ",
        "outputId": "514587a6-d63e-4d47-b729-1664a14bd2ee",
        "colab": {
          "base_uri": "https://localhost:8080/"
        }
      },
      "outputs": [
        {
          "output_type": "stream",
          "name": "stdout",
          "text": [
            "1/1 [==============================] - 0s 43ms/step - loss: 1.0131 - acc: 0.8008\n",
            "\n",
            "Test Set Metrics:\n",
            "\tloss: 1.0131\n",
            "\tacc: 0.8008\n"
          ]
        }
      ],
      "source": [
        "test_metrics = model.evaluate(test_gen)\n",
        "print(\"\\nTest Set Metrics:\")\n",
        "for name, val in zip(model.metrics_names, test_metrics):\n",
        "    print(\"\\t{}: {:0.4f}\".format(name, val))"
      ]
    },
    {
      "cell_type": "markdown",
      "metadata": {
        "id": "UF9EHEH3VvNK"
      },
      "source": [
        "### Making predictions with the model"
      ]
    },
    {
      "cell_type": "code",
      "execution_count": 22,
      "metadata": {
        "id": "iMpqNM2vVvNL",
        "colab": {
          "base_uri": "https://localhost:8080/"
        },
        "outputId": "35966300-7e30-45ba-9c1a-a3fbeaf67a21"
      },
      "outputs": [
        {
          "output_type": "stream",
          "name": "stdout",
          "text": [
            "1/1 [==============================] - 0s 156ms/step\n"
          ]
        }
      ],
      "source": [
        "all_nodes = node_subjects.index\n",
        "all_gen = generator.flow(all_nodes)\n",
        "all_predictions = model.predict(all_gen)"
      ]
    },
    {
      "cell_type": "markdown",
      "metadata": {
        "id": "rVW-3czeVvNL"
      },
      "source": [
        "These predictions will be the output of the softmax layer, so to get final categories we'll use the `inverse_transform` method of our target attribute specification to turn these values back to the original categories."
      ]
    },
    {
      "cell_type": "code",
      "execution_count": 23,
      "metadata": {
        "id": "k-_2cU12VvNL"
      },
      "outputs": [],
      "source": [
        "node_predictions = target_encoding.inverse_transform(all_predictions.squeeze())"
      ]
    },
    {
      "cell_type": "markdown",
      "metadata": {
        "id": "1NCoOsciVvNM"
      },
      "source": [
        "Let's have a look at a few predictions after training the model:"
      ]
    },
    {
      "cell_type": "code",
      "execution_count": 24,
      "metadata": {
        "id": "4DGImMDnVvNM",
        "outputId": "37e4883b-12d9-4c9e-eace-3360f09e9aee",
        "colab": {
          "base_uri": "https://localhost:8080/",
          "height": 669
        }
      },
      "outputs": [
        {
          "output_type": "execute_result",
          "data": {
            "text/plain": [
              "                      Predicted                    True\n",
              "31336                    Theory         Neural_Networks\n",
              "1061127           Rule_Learning           Rule_Learning\n",
              "1106406  Reinforcement_Learning  Reinforcement_Learning\n",
              "13195    Reinforcement_Learning  Reinforcement_Learning\n",
              "37879     Probabilistic_Methods   Probabilistic_Methods\n",
              "1126012   Probabilistic_Methods   Probabilistic_Methods\n",
              "1107140                  Theory                  Theory\n",
              "1102850                  Theory         Neural_Networks\n",
              "31349                    Theory         Neural_Networks\n",
              "1106418                  Theory                  Theory\n",
              "1123188         Neural_Networks         Neural_Networks\n",
              "1128990      Genetic_Algorithms      Genetic_Algorithms\n",
              "109323    Probabilistic_Methods   Probabilistic_Methods\n",
              "217139               Case_Based              Case_Based\n",
              "31353                    Theory         Neural_Networks\n",
              "32083           Neural_Networks         Neural_Networks\n",
              "1126029  Reinforcement_Learning  Reinforcement_Learning\n",
              "1118017         Neural_Networks         Neural_Networks\n",
              "49482           Neural_Networks         Neural_Networks\n",
              "753265                   Theory         Neural_Networks"
            ],
            "text/html": [
              "\n",
              "  <div id=\"df-092cf192-1a58-467e-a297-3765f509653f\">\n",
              "    <div class=\"colab-df-container\">\n",
              "      <div>\n",
              "<style scoped>\n",
              "    .dataframe tbody tr th:only-of-type {\n",
              "        vertical-align: middle;\n",
              "    }\n",
              "\n",
              "    .dataframe tbody tr th {\n",
              "        vertical-align: top;\n",
              "    }\n",
              "\n",
              "    .dataframe thead th {\n",
              "        text-align: right;\n",
              "    }\n",
              "</style>\n",
              "<table border=\"1\" class=\"dataframe\">\n",
              "  <thead>\n",
              "    <tr style=\"text-align: right;\">\n",
              "      <th></th>\n",
              "      <th>Predicted</th>\n",
              "      <th>True</th>\n",
              "    </tr>\n",
              "  </thead>\n",
              "  <tbody>\n",
              "    <tr>\n",
              "      <th>31336</th>\n",
              "      <td>Theory</td>\n",
              "      <td>Neural_Networks</td>\n",
              "    </tr>\n",
              "    <tr>\n",
              "      <th>1061127</th>\n",
              "      <td>Rule_Learning</td>\n",
              "      <td>Rule_Learning</td>\n",
              "    </tr>\n",
              "    <tr>\n",
              "      <th>1106406</th>\n",
              "      <td>Reinforcement_Learning</td>\n",
              "      <td>Reinforcement_Learning</td>\n",
              "    </tr>\n",
              "    <tr>\n",
              "      <th>13195</th>\n",
              "      <td>Reinforcement_Learning</td>\n",
              "      <td>Reinforcement_Learning</td>\n",
              "    </tr>\n",
              "    <tr>\n",
              "      <th>37879</th>\n",
              "      <td>Probabilistic_Methods</td>\n",
              "      <td>Probabilistic_Methods</td>\n",
              "    </tr>\n",
              "    <tr>\n",
              "      <th>1126012</th>\n",
              "      <td>Probabilistic_Methods</td>\n",
              "      <td>Probabilistic_Methods</td>\n",
              "    </tr>\n",
              "    <tr>\n",
              "      <th>1107140</th>\n",
              "      <td>Theory</td>\n",
              "      <td>Theory</td>\n",
              "    </tr>\n",
              "    <tr>\n",
              "      <th>1102850</th>\n",
              "      <td>Theory</td>\n",
              "      <td>Neural_Networks</td>\n",
              "    </tr>\n",
              "    <tr>\n",
              "      <th>31349</th>\n",
              "      <td>Theory</td>\n",
              "      <td>Neural_Networks</td>\n",
              "    </tr>\n",
              "    <tr>\n",
              "      <th>1106418</th>\n",
              "      <td>Theory</td>\n",
              "      <td>Theory</td>\n",
              "    </tr>\n",
              "    <tr>\n",
              "      <th>1123188</th>\n",
              "      <td>Neural_Networks</td>\n",
              "      <td>Neural_Networks</td>\n",
              "    </tr>\n",
              "    <tr>\n",
              "      <th>1128990</th>\n",
              "      <td>Genetic_Algorithms</td>\n",
              "      <td>Genetic_Algorithms</td>\n",
              "    </tr>\n",
              "    <tr>\n",
              "      <th>109323</th>\n",
              "      <td>Probabilistic_Methods</td>\n",
              "      <td>Probabilistic_Methods</td>\n",
              "    </tr>\n",
              "    <tr>\n",
              "      <th>217139</th>\n",
              "      <td>Case_Based</td>\n",
              "      <td>Case_Based</td>\n",
              "    </tr>\n",
              "    <tr>\n",
              "      <th>31353</th>\n",
              "      <td>Theory</td>\n",
              "      <td>Neural_Networks</td>\n",
              "    </tr>\n",
              "    <tr>\n",
              "      <th>32083</th>\n",
              "      <td>Neural_Networks</td>\n",
              "      <td>Neural_Networks</td>\n",
              "    </tr>\n",
              "    <tr>\n",
              "      <th>1126029</th>\n",
              "      <td>Reinforcement_Learning</td>\n",
              "      <td>Reinforcement_Learning</td>\n",
              "    </tr>\n",
              "    <tr>\n",
              "      <th>1118017</th>\n",
              "      <td>Neural_Networks</td>\n",
              "      <td>Neural_Networks</td>\n",
              "    </tr>\n",
              "    <tr>\n",
              "      <th>49482</th>\n",
              "      <td>Neural_Networks</td>\n",
              "      <td>Neural_Networks</td>\n",
              "    </tr>\n",
              "    <tr>\n",
              "      <th>753265</th>\n",
              "      <td>Theory</td>\n",
              "      <td>Neural_Networks</td>\n",
              "    </tr>\n",
              "  </tbody>\n",
              "</table>\n",
              "</div>\n",
              "      <button class=\"colab-df-convert\" onclick=\"convertToInteractive('df-092cf192-1a58-467e-a297-3765f509653f')\"\n",
              "              title=\"Convert this dataframe to an interactive table.\"\n",
              "              style=\"display:none;\">\n",
              "        \n",
              "  <svg xmlns=\"http://www.w3.org/2000/svg\" height=\"24px\"viewBox=\"0 0 24 24\"\n",
              "       width=\"24px\">\n",
              "    <path d=\"M0 0h24v24H0V0z\" fill=\"none\"/>\n",
              "    <path d=\"M18.56 5.44l.94 2.06.94-2.06 2.06-.94-2.06-.94-.94-2.06-.94 2.06-2.06.94zm-11 1L8.5 8.5l.94-2.06 2.06-.94-2.06-.94L8.5 2.5l-.94 2.06-2.06.94zm10 10l.94 2.06.94-2.06 2.06-.94-2.06-.94-.94-2.06-.94 2.06-2.06.94z\"/><path d=\"M17.41 7.96l-1.37-1.37c-.4-.4-.92-.59-1.43-.59-.52 0-1.04.2-1.43.59L10.3 9.45l-7.72 7.72c-.78.78-.78 2.05 0 2.83L4 21.41c.39.39.9.59 1.41.59.51 0 1.02-.2 1.41-.59l7.78-7.78 2.81-2.81c.8-.78.8-2.07 0-2.86zM5.41 20L4 18.59l7.72-7.72 1.47 1.35L5.41 20z\"/>\n",
              "  </svg>\n",
              "      </button>\n",
              "      \n",
              "  <style>\n",
              "    .colab-df-container {\n",
              "      display:flex;\n",
              "      flex-wrap:wrap;\n",
              "      gap: 12px;\n",
              "    }\n",
              "\n",
              "    .colab-df-convert {\n",
              "      background-color: #E8F0FE;\n",
              "      border: none;\n",
              "      border-radius: 50%;\n",
              "      cursor: pointer;\n",
              "      display: none;\n",
              "      fill: #1967D2;\n",
              "      height: 32px;\n",
              "      padding: 0 0 0 0;\n",
              "      width: 32px;\n",
              "    }\n",
              "\n",
              "    .colab-df-convert:hover {\n",
              "      background-color: #E2EBFA;\n",
              "      box-shadow: 0px 1px 2px rgba(60, 64, 67, 0.3), 0px 1px 3px 1px rgba(60, 64, 67, 0.15);\n",
              "      fill: #174EA6;\n",
              "    }\n",
              "\n",
              "    [theme=dark] .colab-df-convert {\n",
              "      background-color: #3B4455;\n",
              "      fill: #D2E3FC;\n",
              "    }\n",
              "\n",
              "    [theme=dark] .colab-df-convert:hover {\n",
              "      background-color: #434B5C;\n",
              "      box-shadow: 0px 1px 3px 1px rgba(0, 0, 0, 0.15);\n",
              "      filter: drop-shadow(0px 1px 2px rgba(0, 0, 0, 0.3));\n",
              "      fill: #FFFFFF;\n",
              "    }\n",
              "  </style>\n",
              "\n",
              "      <script>\n",
              "        const buttonEl =\n",
              "          document.querySelector('#df-092cf192-1a58-467e-a297-3765f509653f button.colab-df-convert');\n",
              "        buttonEl.style.display =\n",
              "          google.colab.kernel.accessAllowed ? 'block' : 'none';\n",
              "\n",
              "        async function convertToInteractive(key) {\n",
              "          const element = document.querySelector('#df-092cf192-1a58-467e-a297-3765f509653f');\n",
              "          const dataTable =\n",
              "            await google.colab.kernel.invokeFunction('convertToInteractive',\n",
              "                                                     [key], {});\n",
              "          if (!dataTable) return;\n",
              "\n",
              "          const docLinkHtml = 'Like what you see? Visit the ' +\n",
              "            '<a target=\"_blank\" href=https://colab.research.google.com/notebooks/data_table.ipynb>data table notebook</a>'\n",
              "            + ' to learn more about interactive tables.';\n",
              "          element.innerHTML = '';\n",
              "          dataTable['output_type'] = 'display_data';\n",
              "          await google.colab.output.renderOutput(dataTable, element);\n",
              "          const docLink = document.createElement('div');\n",
              "          docLink.innerHTML = docLinkHtml;\n",
              "          element.appendChild(docLink);\n",
              "        }\n",
              "      </script>\n",
              "    </div>\n",
              "  </div>\n",
              "  "
            ]
          },
          "metadata": {},
          "execution_count": 24
        }
      ],
      "source": [
        "df = pd.DataFrame({\"Predicted\": node_predictions, \"True\": node_subjects})\n",
        "df.head(20)"
      ]
    },
    {
      "cell_type": "markdown",
      "metadata": {
        "id": "EMpBxmKwVvNS"
      },
      "source": [
        "## Conclusion\n",
        "\n",
        "This notebook gave an example using the GCN algorithm to predict the class of nodes. Specifically, the subject of an academic paper in the Cora dataset. Our model used:\n",
        "\n",
        "- the graph structure of the dataset, in the form of citation links between papers\n",
        "- the 1433-dimensional feature vectors associated with each paper\n",
        "\n",
        "This notebook ran through the following steps:\n",
        "\n",
        "1. prepared the data using common data science libraries\n",
        "2. built a TensorFlow Keras model and data generator with [the StellarGraph library](https://github.com/stellargraph/stellargraph) \n",
        "3. trained and evaluated it using TensorFlow and other libraries"
      ]
    },
    {
      "cell_type": "markdown",
      "source": [
        "#Node classification with Graph ATention Network (GAT)"
      ],
      "metadata": {
        "id": "Fr7Wrctcb1kX"
      }
    },
    {
      "cell_type": "markdown",
      "source": [
        "Install NetworkX & stellar"
      ],
      "metadata": {
        "id": "aSM9t3vocZpx"
      }
    },
    {
      "cell_type": "code",
      "source": [
        "# install StellarGraph if running on Google Colab\n",
        "import sys\n",
        "if 'google.colab' in sys.modules:\n",
        "  %pip install -q stellargraph[demos]==1.2.1"
      ],
      "metadata": {
        "id": "mBexANBvcl09"
      },
      "execution_count": 25,
      "outputs": []
    },
    {
      "cell_type": "code",
      "source": [
        "# verify that we're using the correct version of StellarGraph for this notebook\n",
        "import stellargraph as sg\n",
        "\n",
        "try:\n",
        "    sg.utils.validate_notebook_version(\"1.2.1\")\n",
        "except AttributeError:\n",
        "    raise ValueError(\n",
        "        f\"This notebook requires StellarGraph version 1.2.1, but a different version {sg.__version__} is installed.  Please see <https://github.com/stellargraph/stellargraph/issues/1172>.\"\n",
        "    ) from None"
      ],
      "metadata": {
        "id": "6LjH7P5hcmo8"
      },
      "execution_count": 26,
      "outputs": []
    },
    {
      "cell_type": "markdown",
      "source": [
        "## Importing Libraries"
      ],
      "metadata": {
        "id": "ZSlQ5ch3cs8R"
      }
    },
    {
      "cell_type": "code",
      "source": [
        "import networkx as nx\n",
        "import pandas as pd\n",
        "import os\n",
        "\n",
        "import stellargraph as sg\n",
        "from stellargraph.mapper import FullBatchNodeGenerator\n",
        "from stellargraph.layer import GAT\n",
        "\n",
        "from tensorflow.keras import layers, optimizers, losses, metrics, Model\n",
        "from sklearn import preprocessing, feature_extraction, model_selection\n",
        "from stellargraph import datasets\n",
        "from IPython.display import display, HTML\n",
        "import matplotlib.pyplot as plt\n",
        "%matplotlib inline"
      ],
      "metadata": {
        "id": "EK1ZeNkXcmmd"
      },
      "execution_count": 27,
      "outputs": []
    },
    {
      "cell_type": "markdown",
      "source": [
        "## Loading the CORA network"
      ],
      "metadata": {
        "id": "a1lIwJM2czFo"
      }
    },
    {
      "cell_type": "code",
      "source": [
        "dataset = datasets.Cora()\n",
        "display(HTML(dataset.description))\n",
        "G, node_subjects = dataset.load()"
      ],
      "metadata": {
        "colab": {
          "base_uri": "https://localhost:8080/",
          "height": 51
        },
        "id": "XYF7omkvcmjw",
        "outputId": "91342401-631d-47b4-b648-d7f128346599"
      },
      "execution_count": 28,
      "outputs": [
        {
          "output_type": "display_data",
          "data": {
            "text/plain": [
              "<IPython.core.display.HTML object>"
            ],
            "text/html": [
              "The Cora dataset consists of 2708 scientific publications classified into one of seven classes. The citation network consists of 5429 links. Each publication in the dataset is described by a 0/1-valued word vector indicating the absence/presence of the corresponding word from the dictionary. The dictionary consists of 1433 unique words."
            ]
          },
          "metadata": {}
        }
      ]
    },
    {
      "cell_type": "code",
      "source": [
        "print(G.info())"
      ],
      "metadata": {
        "colab": {
          "base_uri": "https://localhost:8080/"
        },
        "id": "aAV28dPqcmhL",
        "outputId": "0f223846-e5b9-4019-b82e-0d2473dd015e"
      },
      "execution_count": 29,
      "outputs": [
        {
          "output_type": "stream",
          "name": "stdout",
          "text": [
            "StellarGraph: Undirected multigraph\n",
            " Nodes: 2708, Edges: 5429\n",
            "\n",
            " Node types:\n",
            "  paper: [2708]\n",
            "    Features: float32 vector, length 1433\n",
            "    Edge types: paper-cites->paper\n",
            "\n",
            " Edge types:\n",
            "    paper-cites->paper: [5429]\n",
            "        Weights: all 1 (default)\n",
            "        Features: none\n"
          ]
        }
      ]
    },
    {
      "cell_type": "markdown",
      "source": [
        "We aim to train a graph-ML model that will predict the \"subject\" attribute on the nodes. These subjects are one of 7 categories:"
      ],
      "metadata": {
        "id": "6dBrA7usc-Ql"
      }
    },
    {
      "cell_type": "code",
      "source": [
        "set(node_subjects)"
      ],
      "metadata": {
        "colab": {
          "base_uri": "https://localhost:8080/"
        },
        "id": "d9u_APeTcmem",
        "outputId": "5e760bd6-a10a-46cc-eefa-e207ebdc995b"
      },
      "execution_count": 30,
      "outputs": [
        {
          "output_type": "execute_result",
          "data": {
            "text/plain": [
              "{'Case_Based',\n",
              " 'Genetic_Algorithms',\n",
              " 'Neural_Networks',\n",
              " 'Probabilistic_Methods',\n",
              " 'Reinforcement_Learning',\n",
              " 'Rule_Learning',\n",
              " 'Theory'}"
            ]
          },
          "metadata": {},
          "execution_count": 30
        }
      ]
    },
    {
      "cell_type": "markdown",
      "source": [
        "### Splitting the data\n",
        "\n",
        "\n",
        "---\n",
        "For machine learning we want to take a subset of the nodes for training, and use the rest for validation and testing. We'll use scikit-learn again to do this.\n",
        "\n",
        "Here we're taking 140 node labels for training, 500 for validation, and the rest for testing.\n"
      ],
      "metadata": {
        "id": "UsxJNSK1dFd6"
      }
    },
    {
      "cell_type": "code",
      "source": [
        "train_subjects, test_subjects = model_selection.train_test_split(\n",
        "    node_subjects, train_size=140, test_size=None, stratify=node_subjects\n",
        ")\n",
        "val_subjects, test_subjects = model_selection.train_test_split(\n",
        "    test_subjects, train_size=500, test_size=None, stratify=test_subjects\n",
        ")"
      ],
      "metadata": {
        "id": "45MrMfQGcmcD"
      },
      "execution_count": 31,
      "outputs": []
    },
    {
      "cell_type": "markdown",
      "source": [
        "Note using stratified sampling gives the following counts:"
      ],
      "metadata": {
        "id": "rpsrsFLsdN7Z"
      }
    },
    {
      "cell_type": "code",
      "source": [
        "from collections import Counter\n",
        "\n",
        "Counter(train_subjects)"
      ],
      "metadata": {
        "colab": {
          "base_uri": "https://localhost:8080/"
        },
        "id": "okpIohMkcmZS",
        "outputId": "d2b3c21e-841f-4e12-afce-fd700da0e327"
      },
      "execution_count": 32,
      "outputs": [
        {
          "output_type": "execute_result",
          "data": {
            "text/plain": [
              "Counter({'Genetic_Algorithms': 22,\n",
              "         'Case_Based': 16,\n",
              "         'Theory': 18,\n",
              "         'Rule_Learning': 9,\n",
              "         'Reinforcement_Learning': 11,\n",
              "         'Neural_Networks': 42,\n",
              "         'Probabilistic_Methods': 22})"
            ]
          },
          "metadata": {},
          "execution_count": 32
        }
      ]
    },
    {
      "cell_type": "markdown",
      "source": [
        "### Converting to numeric arrays\n",
        "\n",
        "\n",
        "---\n",
        "\n",
        "For our categorical target, we will use one-hot vectors that will be fed into a soft-max Keras layer during training. To do this conversion ..."
      ],
      "metadata": {
        "id": "u8J_z-TMdVxU"
      }
    },
    {
      "cell_type": "code",
      "source": [
        "target_encoding = preprocessing.LabelBinarizer()\n",
        "\n",
        "train_targets = target_encoding.fit_transform(train_subjects)\n",
        "val_targets = target_encoding.transform(val_subjects)\n",
        "test_targets = target_encoding.transform(test_subjects)"
      ],
      "metadata": {
        "id": "XV2B-nYXcmWp"
      },
      "execution_count": 33,
      "outputs": []
    },
    {
      "cell_type": "markdown",
      "source": [
        "## Creating the GAT model in Keras\n",
        "\n",
        "---\n",
        "\n",
        "\n",
        "To feed data from the graph to the Keras model we need a generator. Since GAT is a full-batch model, we use the FullBatchNodeGenerator class to feed node features and graph adjacency matrix to the model."
      ],
      "metadata": {
        "id": "knwMQtFEdgmf"
      }
    },
    {
      "cell_type": "code",
      "source": [
        "generator = FullBatchNodeGenerator(G, method=\"gat\")"
      ],
      "metadata": {
        "id": "3Tuz4nPHcmUa"
      },
      "execution_count": 34,
      "outputs": []
    },
    {
      "cell_type": "code",
      "source": [
        "train_gen = generator.flow(train_subjects.index, train_targets)"
      ],
      "metadata": {
        "id": "iQJbacHqcmR3"
      },
      "execution_count": 35,
      "outputs": []
    },
    {
      "cell_type": "code",
      "source": [
        "gat = GAT(\n",
        "    layer_sizes=[8, train_targets.shape[1]],\n",
        "    activations=[\"elu\", \"softmax\"],\n",
        "    attn_heads=8,\n",
        "    generator=generator,\n",
        "    in_dropout=0.5,\n",
        "    attn_dropout=0.5,\n",
        "    normalize=None,\n",
        ")"
      ],
      "metadata": {
        "id": "GMnlfs50dtMA"
      },
      "execution_count": 36,
      "outputs": []
    },
    {
      "cell_type": "markdown",
      "source": [
        "Expose the input and output tensors of the GAT model for node prediction, via GAT.in_out_tensors() method:"
      ],
      "metadata": {
        "id": "an8aINthd0_Q"
      }
    },
    {
      "cell_type": "code",
      "source": [
        "x_inp, predictions = gat.in_out_tensors()"
      ],
      "metadata": {
        "id": "KDV_Y_TsdtJE"
      },
      "execution_count": 37,
      "outputs": []
    },
    {
      "cell_type": "markdown",
      "source": [
        "### Training the model"
      ],
      "metadata": {
        "id": "HnVLldmJd5e6"
      }
    },
    {
      "cell_type": "code",
      "source": [
        "model = Model(inputs=x_inp, outputs=predictions)\n",
        "model.compile(\n",
        "    optimizer=optimizers.Adam(lr=0.005),\n",
        "    loss=losses.categorical_crossentropy,\n",
        "    metrics=[\"acc\"],\n",
        ")"
      ],
      "metadata": {
        "colab": {
          "base_uri": "https://localhost:8080/"
        },
        "id": "a8xXqBa5d0Bs",
        "outputId": "316d5b8d-b5e8-491a-8580-6c246fbee137"
      },
      "execution_count": 38,
      "outputs": [
        {
          "output_type": "stream",
          "name": "stderr",
          "text": [
            "/usr/local/lib/python3.7/dist-packages/keras/optimizers/optimizer_v2/adam.py:110: UserWarning: The `lr` argument is deprecated, use `learning_rate` instead.\n",
            "  super(Adam, self).__init__(name, **kwargs)\n"
          ]
        }
      ]
    },
    {
      "cell_type": "code",
      "source": [
        "val_gen = generator.flow(val_subjects.index, val_targets)"
      ],
      "metadata": {
        "id": "hbcH27FwdtGD"
      },
      "execution_count": 39,
      "outputs": []
    },
    {
      "cell_type": "code",
      "source": [
        "from tensorflow.keras.callbacks import EarlyStopping, ModelCheckpoint\n",
        "\n",
        "if not os.path.isdir(\"logs\"):\n",
        "    os.makedirs(\"logs\")\n",
        "es_callback = EarlyStopping(\n",
        "    monitor=\"val_acc\", patience=20\n",
        ")  # patience is the number of epochs to wait before early stopping in case of no further improvement\n",
        "mc_callback = ModelCheckpoint(\n",
        "    \"logs/best_model.h5\", monitor=\"val_acc\", save_best_only=True, save_weights_only=True\n",
        ")"
      ],
      "metadata": {
        "id": "BvRNhwMadtDE"
      },
      "execution_count": 40,
      "outputs": []
    },
    {
      "cell_type": "code",
      "source": [
        "history = model.fit(\n",
        "    train_gen,\n",
        "    epochs=50,\n",
        "    validation_data=val_gen,\n",
        "    verbose=2,\n",
        "    shuffle=False,  # this should be False, since shuffling data means shuffling the whole graph\n",
        "    callbacks=[es_callback, mc_callback],\n",
        ")"
      ],
      "metadata": {
        "colab": {
          "base_uri": "https://localhost:8080/"
        },
        "id": "wAdEVw27eFl9",
        "outputId": "1d227711-674d-4970-d529-57c1f90c36ec"
      },
      "execution_count": 41,
      "outputs": [
        {
          "output_type": "stream",
          "name": "stdout",
          "text": [
            "Epoch 1/50\n",
            "1/1 - 4s - loss: 1.9624 - acc: 0.1714 - val_loss: 1.8485 - val_acc: 0.4420 - 4s/epoch - 4s/step\n",
            "Epoch 2/50\n",
            "1/1 - 0s - loss: 1.8206 - acc: 0.3000 - val_loss: 1.7443 - val_acc: 0.4780 - 135ms/epoch - 135ms/step\n",
            "Epoch 3/50\n",
            "1/1 - 0s - loss: 1.6774 - acc: 0.4429 - val_loss: 1.6536 - val_acc: 0.4600 - 99ms/epoch - 99ms/step\n",
            "Epoch 4/50\n",
            "1/1 - 0s - loss: 1.6374 - acc: 0.4929 - val_loss: 1.5787 - val_acc: 0.4860 - 132ms/epoch - 132ms/step\n",
            "Epoch 5/50\n",
            "1/1 - 0s - loss: 1.4724 - acc: 0.5643 - val_loss: 1.5127 - val_acc: 0.5120 - 135ms/epoch - 135ms/step\n",
            "Epoch 6/50\n",
            "1/1 - 0s - loss: 1.4686 - acc: 0.5643 - val_loss: 1.4535 - val_acc: 0.5560 - 129ms/epoch - 129ms/step\n",
            "Epoch 7/50\n",
            "1/1 - 0s - loss: 1.4304 - acc: 0.5071 - val_loss: 1.3992 - val_acc: 0.5880 - 166ms/epoch - 166ms/step\n",
            "Epoch 8/50\n",
            "1/1 - 0s - loss: 1.2139 - acc: 0.6286 - val_loss: 1.3483 - val_acc: 0.6420 - 189ms/epoch - 189ms/step\n",
            "Epoch 9/50\n",
            "1/1 - 0s - loss: 1.2277 - acc: 0.6571 - val_loss: 1.3006 - val_acc: 0.6700 - 124ms/epoch - 124ms/step\n",
            "Epoch 10/50\n",
            "1/1 - 0s - loss: 1.1086 - acc: 0.6786 - val_loss: 1.2548 - val_acc: 0.6900 - 130ms/epoch - 130ms/step\n",
            "Epoch 11/50\n",
            "1/1 - 0s - loss: 1.0891 - acc: 0.6929 - val_loss: 1.2110 - val_acc: 0.7020 - 136ms/epoch - 136ms/step\n",
            "Epoch 12/50\n",
            "1/1 - 0s - loss: 1.0471 - acc: 0.7214 - val_loss: 1.1707 - val_acc: 0.7240 - 127ms/epoch - 127ms/step\n",
            "Epoch 13/50\n",
            "1/1 - 0s - loss: 1.0925 - acc: 0.7143 - val_loss: 1.1343 - val_acc: 0.7280 - 125ms/epoch - 125ms/step\n",
            "Epoch 14/50\n",
            "1/1 - 0s - loss: 1.0095 - acc: 0.7143 - val_loss: 1.1004 - val_acc: 0.7400 - 136ms/epoch - 136ms/step\n",
            "Epoch 15/50\n",
            "1/1 - 0s - loss: 0.9422 - acc: 0.7214 - val_loss: 1.0687 - val_acc: 0.7540 - 125ms/epoch - 125ms/step\n",
            "Epoch 16/50\n",
            "1/1 - 0s - loss: 0.9188 - acc: 0.7571 - val_loss: 1.0398 - val_acc: 0.7640 - 124ms/epoch - 124ms/step\n",
            "Epoch 17/50\n",
            "1/1 - 0s - loss: 0.8706 - acc: 0.7786 - val_loss: 1.0140 - val_acc: 0.7780 - 123ms/epoch - 123ms/step\n",
            "Epoch 18/50\n",
            "1/1 - 0s - loss: 0.9278 - acc: 0.7643 - val_loss: 0.9903 - val_acc: 0.7820 - 153ms/epoch - 153ms/step\n",
            "Epoch 19/50\n",
            "1/1 - 0s - loss: 0.8939 - acc: 0.7786 - val_loss: 0.9701 - val_acc: 0.7960 - 135ms/epoch - 135ms/step\n",
            "Epoch 20/50\n",
            "1/1 - 0s - loss: 0.9080 - acc: 0.8071 - val_loss: 0.9515 - val_acc: 0.8000 - 131ms/epoch - 131ms/step\n",
            "Epoch 21/50\n",
            "1/1 - 0s - loss: 0.8625 - acc: 0.7929 - val_loss: 0.9348 - val_acc: 0.8000 - 98ms/epoch - 98ms/step\n",
            "Epoch 22/50\n",
            "1/1 - 0s - loss: 0.8189 - acc: 0.8000 - val_loss: 0.9201 - val_acc: 0.8000 - 98ms/epoch - 98ms/step\n",
            "Epoch 23/50\n",
            "1/1 - 0s - loss: 0.8359 - acc: 0.8071 - val_loss: 0.9058 - val_acc: 0.7960 - 111ms/epoch - 111ms/step\n",
            "Epoch 24/50\n",
            "1/1 - 0s - loss: 0.7492 - acc: 0.7929 - val_loss: 0.8917 - val_acc: 0.7960 - 97ms/epoch - 97ms/step\n",
            "Epoch 25/50\n",
            "1/1 - 0s - loss: 0.8270 - acc: 0.7929 - val_loss: 0.8778 - val_acc: 0.7960 - 104ms/epoch - 104ms/step\n",
            "Epoch 26/50\n",
            "1/1 - 0s - loss: 0.7978 - acc: 0.7929 - val_loss: 0.8650 - val_acc: 0.8000 - 117ms/epoch - 117ms/step\n",
            "Epoch 27/50\n",
            "1/1 - 0s - loss: 0.7462 - acc: 0.8214 - val_loss: 0.8517 - val_acc: 0.7980 - 97ms/epoch - 97ms/step\n",
            "Epoch 28/50\n",
            "1/1 - 0s - loss: 0.7204 - acc: 0.8143 - val_loss: 0.8390 - val_acc: 0.7980 - 100ms/epoch - 100ms/step\n",
            "Epoch 29/50\n",
            "1/1 - 0s - loss: 0.6571 - acc: 0.8286 - val_loss: 0.8260 - val_acc: 0.7960 - 96ms/epoch - 96ms/step\n",
            "Epoch 30/50\n",
            "1/1 - 0s - loss: 0.7063 - acc: 0.8357 - val_loss: 0.8153 - val_acc: 0.7980 - 97ms/epoch - 97ms/step\n",
            "Epoch 31/50\n",
            "1/1 - 0s - loss: 0.6620 - acc: 0.8714 - val_loss: 0.8043 - val_acc: 0.7960 - 99ms/epoch - 99ms/step\n",
            "Epoch 32/50\n",
            "1/1 - 0s - loss: 0.7432 - acc: 0.8071 - val_loss: 0.7951 - val_acc: 0.7980 - 103ms/epoch - 103ms/step\n",
            "Epoch 33/50\n",
            "1/1 - 0s - loss: 0.6372 - acc: 0.8214 - val_loss: 0.7873 - val_acc: 0.7960 - 104ms/epoch - 104ms/step\n",
            "Epoch 34/50\n",
            "1/1 - 0s - loss: 0.6911 - acc: 0.8357 - val_loss: 0.7803 - val_acc: 0.7960 - 105ms/epoch - 105ms/step\n",
            "Epoch 35/50\n",
            "1/1 - 0s - loss: 0.6514 - acc: 0.8286 - val_loss: 0.7740 - val_acc: 0.7960 - 105ms/epoch - 105ms/step\n",
            "Epoch 36/50\n",
            "1/1 - 0s - loss: 0.6434 - acc: 0.8929 - val_loss: 0.7679 - val_acc: 0.7960 - 102ms/epoch - 102ms/step\n",
            "Epoch 37/50\n",
            "1/1 - 0s - loss: 0.7128 - acc: 0.7929 - val_loss: 0.7617 - val_acc: 0.7980 - 244ms/epoch - 244ms/step\n",
            "Epoch 38/50\n",
            "1/1 - 0s - loss: 0.5603 - acc: 0.8929 - val_loss: 0.7555 - val_acc: 0.7960 - 166ms/epoch - 166ms/step\n",
            "Epoch 39/50\n",
            "1/1 - 0s - loss: 0.5465 - acc: 0.8429 - val_loss: 0.7499 - val_acc: 0.7960 - 166ms/epoch - 166ms/step\n",
            "Epoch 40/50\n",
            "1/1 - 0s - loss: 0.5220 - acc: 0.8643 - val_loss: 0.7452 - val_acc: 0.7940 - 228ms/epoch - 228ms/step\n"
          ]
        }
      ]
    },
    {
      "cell_type": "markdown",
      "source": [
        "Plot the training history:"
      ],
      "metadata": {
        "id": "rgwu7P_LeLJ_"
      }
    },
    {
      "cell_type": "code",
      "source": [
        "sg.utils.plot_history(history)"
      ],
      "metadata": {
        "colab": {
          "base_uri": "https://localhost:8080/",
          "height": 585
        },
        "id": "thgjjXOweL5W",
        "outputId": "f35233c2-22e4-435d-ed5e-bf42f63cfdfe"
      },
      "execution_count": 42,
      "outputs": [
        {
          "output_type": "display_data",
          "data": {
            "text/plain": [
              "<Figure size 504x576 with 2 Axes>"
            ],
            "image/png": "[encoded data removed]"
          },
          "metadata": {
            "needs_background": "light"
          }
        }
      ]
    },
    {
      "cell_type": "markdown",
      "source": [
        "Reload the saved weights of the best model found during the training (according to validation accuracy)"
      ],
      "metadata": {
        "id": "8UhWKUXoeQ7A"
      }
    },
    {
      "cell_type": "code",
      "source": [
        "model.load_weights(\"logs/best_model.h5\")"
      ],
      "metadata": {
        "id": "aBUcgj3ieP2d"
      },
      "execution_count": 43,
      "outputs": []
    },
    {
      "cell_type": "code",
      "source": [
        "test_gen = generator.flow(test_subjects.index, test_targets)"
      ],
      "metadata": {
        "id": "wv73IcLyeT72"
      },
      "execution_count": 44,
      "outputs": []
    },
    {
      "cell_type": "code",
      "source": [
        "test_metrics = model.evaluate(test_gen)\n",
        "print(\"\\nTest Set Metrics:\")\n",
        "for name, val in zip(model.metrics_names, test_metrics):\n",
        "    print(\"\\t{}: {:0.4f}\".format(name, val))"
      ],
      "metadata": {
        "colab": {
          "base_uri": "https://localhost:8080/"
        },
        "id": "QmV_fnN_eYqh",
        "outputId": "4bf3c273-94bb-4df7-b9bd-77b60365557b"
      },
      "execution_count": 45,
      "outputs": [
        {
          "output_type": "stream",
          "name": "stdout",
          "text": [
            "1/1 [==============================] - 0s 118ms/step - loss: 0.9002 - acc: 0.8230\n",
            "\n",
            "Test Set Metrics:\n",
            "\tloss: 0.9002\n",
            "\tacc: 0.8230\n"
          ]
        }
      ]
    },
    {
      "cell_type": "markdown",
      "source": [
        "###Making predictions with the model"
      ],
      "metadata": {
        "id": "cAnIf_4RebbT"
      }
    },
    {
      "cell_type": "code",
      "source": [
        "all_nodes = node_subjects.index\n",
        "all_gen = generator.flow(all_nodes)\n",
        "all_predictions = model.predict(all_gen)"
      ],
      "metadata": {
        "colab": {
          "base_uri": "https://localhost:8080/"
        },
        "id": "6XjRoF-geYnu",
        "outputId": "0685bc70-703b-4552-9bd6-247cefc970cb"
      },
      "execution_count": 46,
      "outputs": [
        {
          "output_type": "stream",
          "name": "stdout",
          "text": [
            "1/1 [==============================] - 1s 619ms/step\n"
          ]
        }
      ]
    },
    {
      "cell_type": "code",
      "source": [
        "node_predictions = target_encoding.inverse_transform(all_predictions.squeeze())"
      ],
      "metadata": {
        "id": "tpFk_2fpeYk9"
      },
      "execution_count": 47,
      "outputs": []
    },
    {
      "cell_type": "code",
      "source": [
        "df = pd.DataFrame({\"Predicted\": node_predictions, \"True\": node_subjects})\n",
        "df.head(20)"
      ],
      "metadata": {
        "colab": {
          "base_uri": "https://localhost:8080/",
          "height": 669
        },
        "id": "IcbTg3A1eYiP",
        "outputId": "bd744adf-b02a-494b-80c5-f50f7266e557"
      },
      "execution_count": 48,
      "outputs": [
        {
          "output_type": "execute_result",
          "data": {
            "text/plain": [
              "                      Predicted                    True\n",
              "31336           Neural_Networks         Neural_Networks\n",
              "1061127           Rule_Learning           Rule_Learning\n",
              "1106406  Reinforcement_Learning  Reinforcement_Learning\n",
              "13195    Reinforcement_Learning  Reinforcement_Learning\n",
              "37879     Probabilistic_Methods   Probabilistic_Methods\n",
              "1126012   Probabilistic_Methods   Probabilistic_Methods\n",
              "1107140                  Theory                  Theory\n",
              "1102850         Neural_Networks         Neural_Networks\n",
              "31349           Neural_Networks         Neural_Networks\n",
              "1106418                  Theory                  Theory\n",
              "1123188         Neural_Networks         Neural_Networks\n",
              "1128990      Genetic_Algorithms      Genetic_Algorithms\n",
              "109323    Probabilistic_Methods   Probabilistic_Methods\n",
              "217139                   Theory              Case_Based\n",
              "31353           Neural_Networks         Neural_Networks\n",
              "32083           Neural_Networks         Neural_Networks\n",
              "1126029  Reinforcement_Learning  Reinforcement_Learning\n",
              "1118017         Neural_Networks         Neural_Networks\n",
              "49482           Neural_Networks         Neural_Networks\n",
              "753265          Neural_Networks         Neural_Networks"
            ],
            "text/html": [
              "\n",
              "  <div id=\"df-2512a24a-5311-4f41-a36c-1248053ab798\">\n",
              "    <div class=\"colab-df-container\">\n",
              "      <div>\n",
              "<style scoped>\n",
              "    .dataframe tbody tr th:only-of-type {\n",
              "        vertical-align: middle;\n",
              "    }\n",
              "\n",
              "    .dataframe tbody tr th {\n",
              "        vertical-align: top;\n",
              "    }\n",
              "\n",
              "    .dataframe thead th {\n",
              "        text-align: right;\n",
              "    }\n",
              "</style>\n",
              "<table border=\"1\" class=\"dataframe\">\n",
              "  <thead>\n",
              "    <tr style=\"text-align: right;\">\n",
              "      <th></th>\n",
              "      <th>Predicted</th>\n",
              "      <th>True</th>\n",
              "    </tr>\n",
              "  </thead>\n",
              "  <tbody>\n",
              "    <tr>\n",
              "      <th>31336</th>\n",
              "      <td>Neural_Networks</td>\n",
              "      <td>Neural_Networks</td>\n",
              "    </tr>\n",
              "    <tr>\n",
              "      <th>1061127</th>\n",
              "      <td>Rule_Learning</td>\n",
              "      <td>Rule_Learning</td>\n",
              "    </tr>\n",
              "    <tr>\n",
              "      <th>1106406</th>\n",
              "      <td>Reinforcement_Learning</td>\n",
              "      <td>Reinforcement_Learning</td>\n",
              "    </tr>\n",
              "    <tr>\n",
              "      <th>13195</th>\n",
              "      <td>Reinforcement_Learning</td>\n",
              "      <td>Reinforcement_Learning</td>\n",
              "    </tr>\n",
              "    <tr>\n",
              "      <th>37879</th>\n",
              "      <td>Probabilistic_Methods</td>\n",
              "      <td>Probabilistic_Methods</td>\n",
              "    </tr>\n",
              "    <tr>\n",
              "      <th>1126012</th>\n",
              "      <td>Probabilistic_Methods</td>\n",
              "      <td>Probabilistic_Methods</td>\n",
              "    </tr>\n",
              "    <tr>\n",
              "      <th>1107140</th>\n",
              "      <td>Theory</td>\n",
              "      <td>Theory</td>\n",
              "    </tr>\n",
              "    <tr>\n",
              "      <th>1102850</th>\n",
              "      <td>Neural_Networks</td>\n",
              "      <td>Neural_Networks</td>\n",
              "    </tr>\n",
              "    <tr>\n",
              "      <th>31349</th>\n",
              "      <td>Neural_Networks</td>\n",
              "      <td>Neural_Networks</td>\n",
              "    </tr>\n",
              "    <tr>\n",
              "      <th>1106418</th>\n",
              "      <td>Theory</td>\n",
              "      <td>Theory</td>\n",
              "    </tr>\n",
              "    <tr>\n",
              "      <th>1123188</th>\n",
              "      <td>Neural_Networks</td>\n",
              "      <td>Neural_Networks</td>\n",
              "    </tr>\n",
              "    <tr>\n",
              "      <th>1128990</th>\n",
              "      <td>Genetic_Algorithms</td>\n",
              "      <td>Genetic_Algorithms</td>\n",
              "    </tr>\n",
              "    <tr>\n",
              "      <th>109323</th>\n",
              "      <td>Probabilistic_Methods</td>\n",
              "      <td>Probabilistic_Methods</td>\n",
              "    </tr>\n",
              "    <tr>\n",
              "      <th>217139</th>\n",
              "      <td>Theory</td>\n",
              "      <td>Case_Based</td>\n",
              "    </tr>\n",
              "    <tr>\n",
              "      <th>31353</th>\n",
              "      <td>Neural_Networks</td>\n",
              "      <td>Neural_Networks</td>\n",
              "    </tr>\n",
              "    <tr>\n",
              "      <th>32083</th>\n",
              "      <td>Neural_Networks</td>\n",
              "      <td>Neural_Networks</td>\n",
              "    </tr>\n",
              "    <tr>\n",
              "      <th>1126029</th>\n",
              "      <td>Reinforcement_Learning</td>\n",
              "      <td>Reinforcement_Learning</td>\n",
              "    </tr>\n",
              "    <tr>\n",
              "      <th>1118017</th>\n",
              "      <td>Neural_Networks</td>\n",
              "      <td>Neural_Networks</td>\n",
              "    </tr>\n",
              "    <tr>\n",
              "      <th>49482</th>\n",
              "      <td>Neural_Networks</td>\n",
              "      <td>Neural_Networks</td>\n",
              "    </tr>\n",
              "    <tr>\n",
              "      <th>753265</th>\n",
              "      <td>Neural_Networks</td>\n",
              "      <td>Neural_Networks</td>\n",
              "    </tr>\n",
              "  </tbody>\n",
              "</table>\n",
              "</div>\n",
              "      <button class=\"colab-df-convert\" onclick=\"convertToInteractive('df-2512a24a-5311-4f41-a36c-1248053ab798')\"\n",
              "              title=\"Convert this dataframe to an interactive table.\"\n",
              "              style=\"display:none;\">\n",
              "        \n",
              "  <svg xmlns=\"http://www.w3.org/2000/svg\" height=\"24px\"viewBox=\"0 0 24 24\"\n",
              "       width=\"24px\">\n",
              "    <path d=\"M0 0h24v24H0V0z\" fill=\"none\"/>\n",
              "    <path d=\"M18.56 5.44l.94 2.06.94-2.06 2.06-.94-2.06-.94-.94-2.06-.94 2.06-2.06.94zm-11 1L8.5 8.5l.94-2.06 2.06-.94-2.06-.94L8.5 2.5l-.94 2.06-2.06.94zm10 10l.94 2.06.94-2.06 2.06-.94-2.06-.94-.94-2.06-.94 2.06-2.06.94z\"/><path d=\"M17.41 7.96l-1.37-1.37c-.4-.4-.92-.59-1.43-.59-.52 0-1.04.2-1.43.59L10.3 9.45l-7.72 7.72c-.78.78-.78 2.05 0 2.83L4 21.41c.39.39.9.59 1.41.59.51 0 1.02-.2 1.41-.59l7.78-7.78 2.81-2.81c.8-.78.8-2.07 0-2.86zM5.41 20L4 18.59l7.72-7.72 1.47 1.35L5.41 20z\"/>\n",
              "  </svg>\n",
              "      </button>\n",
              "      \n",
              "  <style>\n",
              "    .colab-df-container {\n",
              "      display:flex;\n",
              "      flex-wrap:wrap;\n",
              "      gap: 12px;\n",
              "    }\n",
              "\n",
              "    .colab-df-convert {\n",
              "      background-color: #E8F0FE;\n",
              "      border: none;\n",
              "      border-radius: 50%;\n",
              "      cursor: pointer;\n",
              "      display: none;\n",
              "      fill: #1967D2;\n",
              "      height: 32px;\n",
              "      padding: 0 0 0 0;\n",
              "      width: 32px;\n",
              "    }\n",
              "\n",
              "    .colab-df-convert:hover {\n",
              "      background-color: #E2EBFA;\n",
              "      box-shadow: 0px 1px 2px rgba(60, 64, 67, 0.3), 0px 1px 3px 1px rgba(60, 64, 67, 0.15);\n",
              "      fill: #174EA6;\n",
              "    }\n",
              "\n",
              "    [theme=dark] .colab-df-convert {\n",
              "      background-color: #3B4455;\n",
              "      fill: #D2E3FC;\n",
              "    }\n",
              "\n",
              "    [theme=dark] .colab-df-convert:hover {\n",
              "      background-color: #434B5C;\n",
              "      box-shadow: 0px 1px 3px 1px rgba(0, 0, 0, 0.15);\n",
              "      filter: drop-shadow(0px 1px 2px rgba(0, 0, 0, 0.3));\n",
              "      fill: #FFFFFF;\n",
              "    }\n",
              "  </style>\n",
              "\n",
              "      <script>\n",
              "        const buttonEl =\n",
              "          document.querySelector('#df-2512a24a-5311-4f41-a36c-1248053ab798 button.colab-df-convert');\n",
              "        buttonEl.style.display =\n",
              "          google.colab.kernel.accessAllowed ? 'block' : 'none';\n",
              "\n",
              "        async function convertToInteractive(key) {\n",
              "          const element = document.querySelector('#df-2512a24a-5311-4f41-a36c-1248053ab798');\n",
              "          const dataTable =\n",
              "            await google.colab.kernel.invokeFunction('convertToInteractive',\n",
              "                                                     [key], {});\n",
              "          if (!dataTable) return;\n",
              "\n",
              "          const docLinkHtml = 'Like what you see? Visit the ' +\n",
              "            '<a target=\"_blank\" href=https://colab.research.google.com/notebooks/data_table.ipynb>data table notebook</a>'\n",
              "            + ' to learn more about interactive tables.';\n",
              "          element.innerHTML = '';\n",
              "          dataTable['output_type'] = 'display_data';\n",
              "          await google.colab.output.renderOutput(dataTable, element);\n",
              "          const docLink = document.createElement('div');\n",
              "          docLink.innerHTML = docLinkHtml;\n",
              "          element.appendChild(docLink);\n",
              "        }\n",
              "      </script>\n",
              "    </div>\n",
              "  </div>\n",
              "  "
            ]
          },
          "metadata": {},
          "execution_count": 48
        }
      ]
    },
    {
      "cell_type": "markdown",
      "source": [
        "###Node Embeddings"
      ],
      "metadata": {
        "id": "jZsSg1y2en1K"
      }
    },
    {
      "cell_type": "code",
      "source": [
        "emb_layer = next(l for l in model.layers if l.name.startswith(\"graph_attention\"))\n",
        "print(\n",
        "    \"Embedding layer: {}, output shape {}\".format(emb_layer.name, emb_layer.output_shape)\n",
        ")"
      ],
      "metadata": {
        "colab": {
          "base_uri": "https://localhost:8080/"
        },
        "id": "TPi8kD-meYfb",
        "outputId": "a1633fa4-d91c-4191-f0ca-3e696850bd09"
      },
      "execution_count": 49,
      "outputs": [
        {
          "output_type": "stream",
          "name": "stdout",
          "text": [
            "Embedding layer: graph_attention_sparse, output shape (1, 2708, 64)\n"
          ]
        }
      ]
    },
    {
      "cell_type": "code",
      "source": [
        "embedding_model = Model(inputs=x_inp, outputs=emb_layer.output)"
      ],
      "metadata": {
        "id": "DESe5Y6jeYck"
      },
      "execution_count": 50,
      "outputs": []
    },
    {
      "cell_type": "markdown",
      "source": [
        "The embeddings can now be calculated using the predict function. Note that the embeddings returned are 64 dimensional features (8 dimensions for each of the 8 attention heads) for all nodes."
      ],
      "metadata": {
        "id": "uIzx-wOSexvc"
      }
    },
    {
      "cell_type": "code",
      "source": [
        "emb = embedding_model.predict(all_gen)\n",
        "emb.shape"
      ],
      "metadata": {
        "colab": {
          "base_uri": "https://localhost:8080/"
        },
        "id": "jmJ19W-neYZr",
        "outputId": "89d42e3c-c9e4-49e6-844a-abb94ca9b618"
      },
      "execution_count": 51,
      "outputs": [
        {
          "output_type": "stream",
          "name": "stdout",
          "text": [
            "1/1 [==============================] - 1s 680ms/step\n"
          ]
        },
        {
          "output_type": "execute_result",
          "data": {
            "text/plain": [
              "(1, 2708, 64)"
            ]
          },
          "metadata": {},
          "execution_count": 51
        }
      ]
    },
    {
      "cell_type": "markdown",
      "source": [
        "Projecting the embeddings to 2d using either TSNE or PCA transform, and visualise, coloring nodes by their true subject label"
      ],
      "metadata": {
        "id": "14PHSI1Ne3-e"
      }
    },
    {
      "cell_type": "code",
      "source": [
        "from sklearn.decomposition import PCA\n",
        "from sklearn.manifold import TSNE\n",
        "import pandas as pd\n",
        "import numpy as np"
      ],
      "metadata": {
        "id": "-W01jWhyeYWm"
      },
      "execution_count": 52,
      "outputs": []
    },
    {
      "cell_type": "code",
      "source": [
        "X = emb.squeeze()\n",
        "y = np.argmax(target_encoding.transform(node_subjects), axis=1)"
      ],
      "metadata": {
        "id": "Ayj5ISy0eYT5"
      },
      "execution_count": 53,
      "outputs": []
    },
    {
      "cell_type": "code",
      "source": [
        "if X.shape[1] > 2:\n",
        "    transform = TSNE  # PCA\n",
        "\n",
        "    trans = transform(n_components=2)\n",
        "    emb_transformed = pd.DataFrame(trans.fit_transform(X), index=list(G.nodes()))\n",
        "    emb_transformed[\"label\"] = y\n",
        "else:\n",
        "    emb_transformed = pd.DataFrame(X, index=list(G.nodes()))\n",
        "    emb_transformed = emb_transformed.rename(columns={\"0\": 0, \"1\": 1})\n",
        "    emb_transformed[\"label\"] = y"
      ],
      "metadata": {
        "colab": {
          "base_uri": "https://localhost:8080/"
        },
        "id": "wkn95QEpeYRH",
        "outputId": "a0746e21-07ba-4ff5-f2ad-6aeb339c88f2"
      },
      "execution_count": 54,
      "outputs": [
        {
          "output_type": "stream",
          "name": "stderr",
          "text": [
            "/usr/local/lib/python3.7/dist-packages/sklearn/manifold/_t_sne.py:783: FutureWarning: The default initialization in TSNE will change from 'random' to 'pca' in 1.2.\n",
            "  FutureWarning,\n",
            "/usr/local/lib/python3.7/dist-packages/sklearn/manifold/_t_sne.py:793: FutureWarning: The default learning rate in TSNE will change from 200.0 to 'auto' in 1.2.\n",
            "  FutureWarning,\n"
          ]
        }
      ]
    },
    {
      "cell_type": "code",
      "source": [
        "alpha = 0.7\n",
        "\n",
        "fig, ax = plt.subplots(figsize=(7, 7))\n",
        "ax.scatter(\n",
        "    emb_transformed[0],\n",
        "    emb_transformed[1],\n",
        "    c=emb_transformed[\"label\"].astype(\"category\"),\n",
        "    cmap=\"jet\",\n",
        "    alpha=alpha,\n",
        ")\n",
        "ax.set(aspect=\"equal\", xlabel=\"$X_1$\", ylabel=\"$X_2$\")\n",
        "plt.title(\n",
        "    \"{} visualization of GAT embeddings for cora dataset\".format(transform.__name__)\n",
        ")\n",
        "plt.show()"
      ],
      "metadata": {
        "colab": {
          "base_uri": "https://localhost:8080/",
          "height": 429
        },
        "id": "poupdFz4fMkt",
        "outputId": "c390c915-4341-4e4b-8d71-8d5803de9168"
      },
      "execution_count": 55,
      "outputs": [
        {
          "output_type": "display_data",
          "data": {
            "text/plain": [
              "<Figure size 504x504 with 1 Axes>"
            ],
            "image/png": "[encoded data removed]"
          },
          "metadata": {
            "needs_background": "light"
          }
        }
      ]
    },
    {
      "cell_type": "markdown",
      "source": [
        "#References:\n",
        "#####https://stellargraph.readthedocs.io/en/stable/demos/node-classification/gcn-node-classification.html\n",
        "#####https://stellargraph.readthedocs.io/en/stable/demos/node-classification/gat-node-classification.html"
      ],
      "metadata": {
        "id": "3xuOdyZRfP8y"
      }
    }
  ],
  "metadata": {
    "kernelspec": {
      "display_name": "Python 3",
      "language": "python",
      "name": "python3"
    },
    "language_info": {
      "codemirror_mode": {
        "name": "ipython",
        "version": 3
      },
      "file_extension": ".py",
      "mimetype": "text/x-python",
      "name": "python",
      "nbconvert_exporter": "python",
      "pygments_lexer": "ipython3",
      "version": "3.6.9"
    },
    "colab": {
      "provenance": [],
      "collapsed_sections": [],
      "include_colab_link": true
    },
    "accelerator": "GPU"
  },
  "nbformat": 4,
  "nbformat_minor": 0
}